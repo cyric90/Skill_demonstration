{
 "cells": [
  {
   "cell_type": "code",
   "execution_count": null,
   "metadata": {},
   "outputs": [],
   "source": []
  },
  {
   "cell_type": "code",
   "execution_count": null,
   "metadata": {},
   "outputs": [],
   "source": []
  },
  {
   "cell_type": "code",
   "execution_count": 1,
   "metadata": {},
   "outputs": [
    {
     "name": "stderr",
     "output_type": "stream",
     "text": [
      "Type 'citation(\"pROC\")' for a citation.\n",
      "\n",
      "Attaching package: ‘pROC’\n",
      "\n",
      "The following objects are masked from ‘package:stats’:\n",
      "\n",
      "    cov, smooth, var\n",
      "\n",
      "Loading required package: gplots\n",
      "\n",
      "Attaching package: ‘gplots’\n",
      "\n",
      "The following object is masked from ‘package:stats’:\n",
      "\n",
      "    lowess\n",
      "\n"
     ]
    }
   ],
   "source": [
    "library(e1071)\n",
    "library(ggplot2)\n",
    "library(pROC)\n",
    "library(ROCR)\n",
    "library(ISLR)\n",
    "library(leaps)"
   ]
  },
  {
   "cell_type": "code",
   "execution_count": 2,
   "metadata": {},
   "outputs": [],
   "source": [
    "# load the data and gives the names to the column \n",
    "CreditData <- read.csv('german.data',sep=\" \",header=FALSE)\n",
    "names(CreditData) = c('Account_status','Duration','Cre_history','Purpose',\n",
    "                      'Cre_amount','Savings','Present_employment','Installment_rate_income',\n",
    "                      'Personal_status','Other_debtors','Present_residence','Property','Age',\n",
    "                      'Installment_plans','Housing','No._credits','Job','No._people','Tel',\n",
    "                      'Foreign_worker','C_Risk')"
   ]
  },
  {
   "cell_type": "code",
   "execution_count": 3,
   "metadata": {},
   "outputs": [
    {
     "data": {
      "text/html": [
       "<table>\n",
       "<thead><tr><th scope=col>Account_status</th><th scope=col>Duration</th><th scope=col>Cre_history</th><th scope=col>Purpose</th><th scope=col>Cre_amount</th><th scope=col>Savings</th><th scope=col>Present_employment</th><th scope=col>Installment_rate_income</th><th scope=col>Personal_status</th><th scope=col>Other_debtors</th><th scope=col>⋯</th><th scope=col>Property</th><th scope=col>Age</th><th scope=col>Installment_plans</th><th scope=col>Housing</th><th scope=col>No._credits</th><th scope=col>Job</th><th scope=col>No._people</th><th scope=col>Tel</th><th scope=col>Foreign_worker</th><th scope=col>C_Risk</th></tr></thead>\n",
       "<tbody>\n",
       "\t<tr><td>A11 </td><td> 6  </td><td>A34 </td><td>A43 </td><td>1169</td><td>A65 </td><td>A75 </td><td>4   </td><td>A93 </td><td>A101</td><td>⋯   </td><td>A121</td><td>67  </td><td>A143</td><td>A152</td><td>2   </td><td>A173</td><td>1   </td><td>A192</td><td>A201</td><td>1   </td></tr>\n",
       "\t<tr><td>A12 </td><td>48  </td><td>A32 </td><td>A43 </td><td>5951</td><td>A61 </td><td>A73 </td><td>2   </td><td>A92 </td><td>A101</td><td>⋯   </td><td>A121</td><td>22  </td><td>A143</td><td>A152</td><td>1   </td><td>A173</td><td>1   </td><td>A191</td><td>A201</td><td>0   </td></tr>\n",
       "\t<tr><td>A14 </td><td>12  </td><td>A34 </td><td>A46 </td><td>2096</td><td>A61 </td><td>A74 </td><td>2   </td><td>A93 </td><td>A101</td><td>⋯   </td><td>A121</td><td>49  </td><td>A143</td><td>A152</td><td>1   </td><td>A172</td><td>2   </td><td>A191</td><td>A201</td><td>1   </td></tr>\n",
       "\t<tr><td>A11 </td><td>42  </td><td>A32 </td><td>A42 </td><td>7882</td><td>A61 </td><td>A74 </td><td>2   </td><td>A93 </td><td>A103</td><td>⋯   </td><td>A122</td><td>45  </td><td>A143</td><td>A153</td><td>1   </td><td>A173</td><td>2   </td><td>A191</td><td>A201</td><td>1   </td></tr>\n",
       "\t<tr><td>A11 </td><td>24  </td><td>A33 </td><td>A40 </td><td>4870</td><td>A61 </td><td>A73 </td><td>3   </td><td>A93 </td><td>A101</td><td>⋯   </td><td>A124</td><td>53  </td><td>A143</td><td>A153</td><td>2   </td><td>A173</td><td>2   </td><td>A191</td><td>A201</td><td>0   </td></tr>\n",
       "\t<tr><td>A14 </td><td>36  </td><td>A32 </td><td>A46 </td><td>9055</td><td>A65 </td><td>A73 </td><td>2   </td><td>A93 </td><td>A101</td><td>⋯   </td><td>A124</td><td>35  </td><td>A143</td><td>A153</td><td>1   </td><td>A172</td><td>2   </td><td>A192</td><td>A201</td><td>1   </td></tr>\n",
       "</tbody>\n",
       "</table>\n"
      ],
      "text/latex": [
       "\\begin{tabular}{r|lllllllllllllllllllll}\n",
       " Account\\_status & Duration & Cre\\_history & Purpose & Cre\\_amount & Savings & Present\\_employment & Installment\\_rate\\_income & Personal\\_status & Other\\_debtors & ⋯ & Property & Age & Installment\\_plans & Housing & No.\\_credits & Job & No.\\_people & Tel & Foreign\\_worker & C\\_Risk\\\\\n",
       "\\hline\n",
       "\t A11  &  6   & A34  & A43  & 1169 & A65  & A75  & 4    & A93  & A101 & ⋯    & A121 & 67   & A143 & A152 & 2    & A173 & 1    & A192 & A201 & 1   \\\\\n",
       "\t A12  & 48   & A32  & A43  & 5951 & A61  & A73  & 2    & A92  & A101 & ⋯    & A121 & 22   & A143 & A152 & 1    & A173 & 1    & A191 & A201 & 0   \\\\\n",
       "\t A14  & 12   & A34  & A46  & 2096 & A61  & A74  & 2    & A93  & A101 & ⋯    & A121 & 49   & A143 & A152 & 1    & A172 & 2    & A191 & A201 & 1   \\\\\n",
       "\t A11  & 42   & A32  & A42  & 7882 & A61  & A74  & 2    & A93  & A103 & ⋯    & A122 & 45   & A143 & A153 & 1    & A173 & 2    & A191 & A201 & 1   \\\\\n",
       "\t A11  & 24   & A33  & A40  & 4870 & A61  & A73  & 3    & A93  & A101 & ⋯    & A124 & 53   & A143 & A153 & 2    & A173 & 2    & A191 & A201 & 0   \\\\\n",
       "\t A14  & 36   & A32  & A46  & 9055 & A65  & A73  & 2    & A93  & A101 & ⋯    & A124 & 35   & A143 & A153 & 1    & A172 & 2    & A192 & A201 & 1   \\\\\n",
       "\\end{tabular}\n"
      ],
      "text/markdown": [
       "\n",
       "Account_status | Duration | Cre_history | Purpose | Cre_amount | Savings | Present_employment | Installment_rate_income | Personal_status | Other_debtors | ⋯ | Property | Age | Installment_plans | Housing | No._credits | Job | No._people | Tel | Foreign_worker | C_Risk | \n",
       "|---|---|---|---|---|---|\n",
       "| A11  |  6   | A34  | A43  | 1169 | A65  | A75  | 4    | A93  | A101 | ⋯    | A121 | 67   | A143 | A152 | 2    | A173 | 1    | A192 | A201 | 1    | \n",
       "| A12  | 48   | A32  | A43  | 5951 | A61  | A73  | 2    | A92  | A101 | ⋯    | A121 | 22   | A143 | A152 | 1    | A173 | 1    | A191 | A201 | 0    | \n",
       "| A14  | 12   | A34  | A46  | 2096 | A61  | A74  | 2    | A93  | A101 | ⋯    | A121 | 49   | A143 | A152 | 1    | A172 | 2    | A191 | A201 | 1    | \n",
       "| A11  | 42   | A32  | A42  | 7882 | A61  | A74  | 2    | A93  | A103 | ⋯    | A122 | 45   | A143 | A153 | 1    | A173 | 2    | A191 | A201 | 1    | \n",
       "| A11  | 24   | A33  | A40  | 4870 | A61  | A73  | 3    | A93  | A101 | ⋯    | A124 | 53   | A143 | A153 | 2    | A173 | 2    | A191 | A201 | 0    | \n",
       "| A14  | 36   | A32  | A46  | 9055 | A65  | A73  | 2    | A93  | A101 | ⋯    | A124 | 35   | A143 | A153 | 1    | A172 | 2    | A192 | A201 | 1    | \n",
       "\n",
       "\n"
      ],
      "text/plain": [
       "  Account_status Duration Cre_history Purpose Cre_amount Savings\n",
       "1 A11             6       A34         A43     1169       A65    \n",
       "2 A12            48       A32         A43     5951       A61    \n",
       "3 A14            12       A34         A46     2096       A61    \n",
       "4 A11            42       A32         A42     7882       A61    \n",
       "5 A11            24       A33         A40     4870       A61    \n",
       "6 A14            36       A32         A46     9055       A65    \n",
       "  Present_employment Installment_rate_income Personal_status Other_debtors ⋯\n",
       "1 A75                4                       A93             A101          ⋯\n",
       "2 A73                2                       A92             A101          ⋯\n",
       "3 A74                2                       A93             A101          ⋯\n",
       "4 A74                2                       A93             A103          ⋯\n",
       "5 A73                3                       A93             A101          ⋯\n",
       "6 A73                2                       A93             A101          ⋯\n",
       "  Property Age Installment_plans Housing No._credits Job  No._people Tel \n",
       "1 A121     67  A143              A152    2           A173 1          A192\n",
       "2 A121     22  A143              A152    1           A173 1          A191\n",
       "3 A121     49  A143              A152    1           A172 2          A191\n",
       "4 A122     45  A143              A153    1           A173 2          A191\n",
       "5 A124     53  A143              A153    2           A173 2          A191\n",
       "6 A124     35  A143              A153    1           A172 2          A192\n",
       "  Foreign_worker C_Risk\n",
       "1 A201           1     \n",
       "2 A201           0     \n",
       "3 A201           1     \n",
       "4 A201           1     \n",
       "5 A201           0     \n",
       "6 A201           1     "
      ]
     },
     "metadata": {},
     "output_type": "display_data"
    }
   ],
   "source": [
    "CreditData$C_Risk[CreditData$C_Risk=='1'] <- 1 # Good in Credit\n",
    "CreditData$C_Risk[CreditData$C_Risk=='2'] <- 0 # Bad in Credit\n",
    "CreditData$C_Risk <- factor(CreditData$C_Risk)\n",
    "# Divide the data into two parts\n",
    "CreditData_training <- CreditData[1:800,]\n",
    "CreditData_testing <- CreditData[801:1000,]\n",
    "\n",
    "head(CreditData_training)"
   ]
  },
  {
   "cell_type": "code",
   "execution_count": 4,
   "metadata": {},
   "outputs": [
    {
     "data": {
      "text/plain": [
       "\n",
       "Call:\n",
       "glm(formula = C_Risk ~ ., family = binomial, data = CreditData_training)\n",
       "\n",
       "Deviance Residuals: \n",
       "    Min       1Q   Median       3Q      Max  \n",
       "-2.5591  -0.6663   0.3604   0.6979   2.7373  \n",
       "\n",
       "Coefficients:\n",
       "                          Estimate Std. Error z value Pr(>|z|)    \n",
       "(Intercept)             -3.978e-01  1.249e+00  -0.318 0.750139    \n",
       "Account_statusA12        2.701e-01  2.437e-01   1.108 0.267784    \n",
       "Account_statusA13        9.306e-01  4.018e-01   2.316 0.020567 *  \n",
       "Account_statusA14        1.737e+00  2.686e-01   6.465 1.02e-10 ***\n",
       "Duration                -2.893e-02  1.042e-02  -2.777 0.005479 ** \n",
       "Cre_historyA31          -2.255e-01  6.289e-01  -0.359 0.719936    \n",
       "Cre_historyA32           7.639e-01  4.753e-01   1.607 0.108022    \n",
       "Cre_historyA33           9.172e-01  5.233e-01   1.753 0.079627 .  \n",
       "Cre_historyA34           1.487e+00  4.907e-01   3.031 0.002440 ** \n",
       "PurposeA41               1.832e+00  4.425e-01   4.141 3.46e-05 ***\n",
       "PurposeA410              1.413e+00  8.263e-01   1.710 0.087326 .  \n",
       "PurposeA42               9.368e-01  2.990e-01   3.134 0.001727 ** \n",
       "PurposeA43               9.044e-01  2.799e-01   3.230 0.001236 ** \n",
       "PurposeA44               8.312e-01  8.946e-01   0.929 0.352807    \n",
       "PurposeA45               3.222e-01  6.092e-01   0.529 0.596843    \n",
       "PurposeA46              -1.688e-02  4.255e-01  -0.040 0.968354    \n",
       "PurposeA48               2.213e+00  1.219e+00   1.816 0.069365 .  \n",
       "PurposeA49               8.368e-01  3.850e-01   2.173 0.029760 *  \n",
       "Cre_amount              -1.138e-04  5.166e-05  -2.202 0.027682 *  \n",
       "SavingsA62               3.991e-01  3.182e-01   1.254 0.209771    \n",
       "SavingsA63               4.615e-01  4.762e-01   0.969 0.332404    \n",
       "SavingsA64               1.222e+00  5.473e-01   2.232 0.025592 *  \n",
       "SavingsA65               7.093e-01  2.929e-01   2.421 0.015462 *  \n",
       "Present_employmentA72    2.017e-01  4.948e-01   0.408 0.683485    \n",
       "Present_employmentA73    3.028e-01  4.706e-01   0.643 0.519975    \n",
       "Present_employmentA74    1.105e+00  5.113e-01   2.162 0.030623 *  \n",
       "Present_employmentA75    4.092e-01  4.712e-01   0.869 0.385102    \n",
       "Installment_rate_income -3.602e-01  9.933e-02  -3.626 0.000287 ***\n",
       "Personal_statusA92       4.434e-01  4.300e-01   1.031 0.302374    \n",
       "Personal_statusA93       1.230e+00  4.245e-01   2.897 0.003769 ** \n",
       "Personal_statusA94       4.630e-01  5.119e-01   0.905 0.365705    \n",
       "Other_debtorsA102       -7.521e-01  4.771e-01  -1.576 0.114917    \n",
       "Other_debtorsA103        9.329e-01  4.830e-01   1.931 0.053423 .  \n",
       "Present_residence       -3.282e-03  9.850e-02  -0.033 0.973420    \n",
       "PropertyA122            -4.101e-01  2.897e-01  -1.415 0.156969    \n",
       "PropertyA123            -1.536e-01  2.649e-01  -0.580 0.562115    \n",
       "PropertyA124            -7.122e-01  4.714e-01  -1.511 0.130827    \n",
       "Age                      1.868e-02  1.055e-02   1.770 0.076682 .  \n",
       "Installment_plansA142    1.442e-02  4.733e-01   0.030 0.975695    \n",
       "Installment_plansA143    4.354e-01  2.724e-01   1.599 0.109919    \n",
       "HousingA152              3.967e-01  2.739e-01   1.448 0.147576    \n",
       "HousingA153              5.576e-01  5.303e-01   1.051 0.293071    \n",
       "No._credits             -3.297e-01  2.124e-01  -1.552 0.120602    \n",
       "JobA172                 -5.151e-01  7.807e-01  -0.660 0.509351    \n",
       "JobA173                 -5.655e-01  7.507e-01  -0.753 0.451267    \n",
       "JobA174                 -8.202e-01  7.597e-01  -1.080 0.280307    \n",
       "No._people              -5.065e-01  2.854e-01  -1.775 0.075972 .  \n",
       "TelA192                  3.739e-01  2.323e-01   1.610 0.107489    \n",
       "Foreign_workerA202       1.498e+00  8.079e-01   1.854 0.063779 .  \n",
       "---\n",
       "Signif. codes:  0 ‘***’ 0.001 ‘**’ 0.01 ‘*’ 0.05 ‘.’ 0.1 ‘ ’ 1\n",
       "\n",
       "(Dispersion parameter for binomial family taken to be 1)\n",
       "\n",
       "    Null deviance: 975.68  on 799  degrees of freedom\n",
       "Residual deviance: 705.07  on 751  degrees of freedom\n",
       "AIC: 803.07\n",
       "\n",
       "Number of Fisher Scoring iterations: 5\n"
      ]
     },
     "metadata": {},
     "output_type": "display_data"
    }
   ],
   "source": [
    "# create logistic regression using all predictors\n",
    "model_logistic <- glm(C_Risk~.,data = CreditData_training,family = binomial)\n",
    "summary(model_logistic)"
   ]
  },
  {
   "cell_type": "code",
   "execution_count": 5,
   "metadata": {},
   "outputs": [
    {
     "data": {
      "text/plain": [
       "      Prediction\n",
       "Actual   0   1\n",
       "     0 126 113\n",
       "     1  59 502"
      ]
     },
     "metadata": {},
     "output_type": "display_data"
    }
   ],
   "source": [
    "# Calculate the confusion matrix\n",
    "confusion.matrix <- as.matrix(table('Actual'=model_logistic$y, 'Prediction'=round(model_logistic$fitted.values)))\n",
    "confusion.matrix"
   ]
  },
  {
   "cell_type": "code",
   "execution_count": 6,
   "metadata": {},
   "outputs": [
    {
     "data": {
      "text/html": [
       "78.5"
      ],
      "text/latex": [
       "78.5"
      ],
      "text/markdown": [
       "78.5"
      ],
      "text/plain": [
       "[1] 78.5"
      ]
     },
     "metadata": {},
     "output_type": "display_data"
    }
   ],
   "source": [
    "N <- nrow(CreditData_training)  # number of observations\n",
    "diag <- diag(confusion.matrix)  # TN and TP\n",
    "Accuracy <- sum(diag)/N         # accuracy = (TP + TN)/N \n",
    "round(Accuracy*100,2)"
   ]
  },
  {
   "cell_type": "code",
   "execution_count": 7,
   "metadata": {},
   "outputs": [
    {
     "data": {
      "text/html": [
       "<table>\n",
       "<thead><tr><th></th><th scope=col>Actual.Dist</th><th scope=col>Predicted.Dist</th></tr></thead>\n",
       "<tbody>\n",
       "\t<tr><th scope=row>0</th><td>29.88</td><td>23.12</td></tr>\n",
       "\t<tr><th scope=row>1</th><td>70.12</td><td>76.88</td></tr>\n",
       "</tbody>\n",
       "</table>\n"
      ],
      "text/latex": [
       "\\begin{tabular}{r|ll}\n",
       "  & Actual.Dist & Predicted.Dist\\\\\n",
       "\\hline\n",
       "\t0 & 29.88 & 23.12\\\\\n",
       "\t1 & 70.12 & 76.88\\\\\n",
       "\\end{tabular}\n"
      ],
      "text/markdown": [
       "\n",
       "| <!--/--> | Actual.Dist | Predicted.Dist | \n",
       "|---|---|\n",
       "| 0 | 29.88 | 23.12 | \n",
       "| 1 | 70.12 | 76.88 | \n",
       "\n",
       "\n"
      ],
      "text/plain": [
       "  Actual.Dist Predicted.Dist\n",
       "0 29.88       23.12         \n",
       "1 70.12       76.88         "
      ]
     },
     "metadata": {},
     "output_type": "display_data"
    }
   ],
   "source": [
    "rowsums = apply(confusion.matrix, 1, sum)\t# number of observations per class\n",
    "colsums = apply(confusion.matrix, 2, sum)\t# number of predictions per class\n",
    "Actual.Dist = rowsums / N\t\t\t\t\t# distribution of observations over the actual classes\n",
    "Predicted.Dist= colsums / N\t\t\t\t\t# distribution of observations over the predicted classes\n",
    "round(data.frame(Actual.Dist,Predicted.Dist)*100,2)"
   ]
  },
  {
   "cell_type": "code",
   "execution_count": 8,
   "metadata": {},
   "outputs": [
    {
     "data": {
      "text/html": [
       "<table>\n",
       "<thead><tr><th></th><th scope=col>Precision</th><th scope=col>Recall</th><th scope=col>F1</th><th scope=col>Actual.Dist</th><th scope=col>Predicted.Dist</th></tr></thead>\n",
       "<tbody>\n",
       "\t<tr><th scope=row>0</th><td>68.11</td><td>52.72</td><td>59.43</td><td>29.88</td><td>23.12</td></tr>\n",
       "\t<tr><th scope=row>1</th><td>81.63</td><td>89.48</td><td>85.37</td><td>70.12</td><td>76.88</td></tr>\n",
       "</tbody>\n",
       "</table>\n"
      ],
      "text/latex": [
       "\\begin{tabular}{r|lllll}\n",
       "  & Precision & Recall & F1 & Actual.Dist & Predicted.Dist\\\\\n",
       "\\hline\n",
       "\t0 & 68.11 & 52.72 & 59.43 & 29.88 & 23.12\\\\\n",
       "\t1 & 81.63 & 89.48 & 85.37 & 70.12 & 76.88\\\\\n",
       "\\end{tabular}\n"
      ],
      "text/markdown": [
       "\n",
       "| <!--/--> | Precision | Recall | F1 | Actual.Dist | Predicted.Dist | \n",
       "|---|---|\n",
       "| 0 | 68.11 | 52.72 | 59.43 | 29.88 | 23.12 | \n",
       "| 1 | 81.63 | 89.48 | 85.37 | 70.12 | 76.88 | \n",
       "\n",
       "\n"
      ],
      "text/plain": [
       "  Precision Recall F1    Actual.Dist Predicted.Dist\n",
       "0 68.11     52.72  59.43 29.88       23.12         \n",
       "1 81.63     89.48  85.37 70.12       76.88         "
      ]
     },
     "metadata": {},
     "output_type": "display_data"
    }
   ],
   "source": [
    "Precision = diag / colsums\n",
    "Recall = diag / rowsums\n",
    "F1 = 2 * Precision * Recall / (Precision + Recall) \n",
    "round(data.frame(Precision, Recall, F1, Actual.Dist, Predicted.Dist)*100,2)"
   ]
  },
  {
   "cell_type": "code",
   "execution_count": 9,
   "metadata": {},
   "outputs": [
    {
     "data": {
      "text/plain": [
       "\n",
       "Naive Bayes Classifier for Discrete Predictors\n",
       "\n",
       "Call:\n",
       "naiveBayes.default(x = X, y = Y, laplace = laplace)\n",
       "\n",
       "A-priori probabilities:\n",
       "Y\n",
       "      0       1 \n",
       "0.29875 0.70125 \n",
       "\n",
       "Conditional probabilities:\n",
       "   Account_status\n",
       "Y          A11        A12        A13        A14\n",
       "  0 0.41422594 0.38912134 0.05020921 0.14644351\n",
       "  1 0.19607843 0.23707665 0.07664884 0.49019608\n",
       "\n",
       "   Duration\n",
       "Y       [,1]     [,2]\n",
       "  0 24.55649 13.27805\n",
       "  1 18.98752 11.25317\n",
       "\n",
       "   Cre_history\n",
       "Y          A30        A31        A32        A33        A34\n",
       "  0 0.08368201 0.08786611 0.54811715 0.10041841 0.17991632\n",
       "  1 0.02317291 0.02852050 0.52228164 0.08377897 0.34224599\n",
       "\n",
       "   Purpose\n",
       "Y          A40        A41       A410        A42        A43        A44\n",
       "  0 0.29707113 0.05020921 0.01673640 0.18828452 0.20920502 0.01255230\n",
       "  1 0.20142602 0.12299465 0.01069519 0.17647059 0.30837790 0.01069519\n",
       "   Purpose\n",
       "Y          A45        A46        A48        A49\n",
       "  0 0.02928870 0.08368201 0.00418410 0.10878661\n",
       "  1 0.02139037 0.04456328 0.01247772 0.09090909\n",
       "\n",
       "   Cre_amount\n",
       "Y       [,1]     [,2]\n",
       "  0 3815.962 3432.132\n",
       "  1 2924.717 2326.046\n",
       "\n",
       "   Savings\n",
       "Y          A61        A62        A63        A64        A65\n",
       "  0 0.69456067 0.12552301 0.02928870 0.02510460 0.12552301\n",
       "  1 0.55258467 0.10516934 0.07843137 0.06417112 0.19964349\n",
       "\n",
       "   Present_employment\n",
       "Y          A71        A72        A73        A74        A75\n",
       "  0 0.07949791 0.22594142 0.35146444 0.12552301 0.21757322\n",
       "  1 0.05169340 0.14081996 0.34046346 0.19786096 0.26916221\n",
       "\n",
       "   Installment_rate_income\n",
       "Y       [,1]     [,2]\n",
       "  0 3.125523 1.100486\n",
       "  1 2.898396 1.134845\n",
       "\n",
       "   Personal_status\n",
       "Y          A91        A92        A93        A94\n",
       "  0 0.07112971 0.38912134 0.45606695 0.08368201\n",
       "  1 0.03743316 0.28877005 0.58467023 0.08912656\n",
       "\n",
       "   Other_debtors\n",
       "Y         A101       A102       A103\n",
       "  0 0.90794979 0.05857741 0.03347280\n",
       "  1 0.91087344 0.02852050 0.06060606\n",
       "\n",
       "   Present_residence\n",
       "Y       [,1]     [,2]\n",
       "  0 2.849372 1.097318\n",
       "  1 2.837790 1.111819\n",
       "\n",
       "   Property\n",
       "Y        A121      A122      A123      A124\n",
       "  0 0.2133891 0.2259414 0.3305439 0.2301255\n",
       "  1 0.3172906 0.2192513 0.3333333 0.1301248\n",
       "\n",
       "   Age\n",
       "Y       [,1]     [,2]\n",
       "  0 33.69038 11.19932\n",
       "  1 36.13725 11.51617\n",
       "\n",
       "   Installment_plans\n",
       "Y         A141       A142       A143\n",
       "  0 0.17991632 0.06276151 0.75732218\n",
       "  1 0.12299465 0.03565062 0.84135472\n",
       "\n",
       "   Housing\n",
       "Y         A151       A152       A153\n",
       "  0 0.22594142 0.62343096 0.15062762\n",
       "  1 0.15329768 0.75044563 0.09625668\n",
       "\n",
       "   No._credits\n",
       "Y       [,1]      [,2]\n",
       "  0 1.372385 0.5645618\n",
       "  1 1.406417 0.5721777\n",
       "\n",
       "   Job\n",
       "Y         A171       A172       A173       A174\n",
       "  0 0.02092050 0.19246862 0.60251046 0.18410042\n",
       "  1 0.02139037 0.20499109 0.63992870 0.13368984\n",
       "\n",
       "   No._people\n",
       "Y       [,1]      [,2]\n",
       "  0 1.154812 0.3624842\n",
       "  1 1.144385 0.3517934\n",
       "\n",
       "   Tel\n",
       "Y        A191      A192\n",
       "  0 0.6317992 0.3682008\n",
       "  1 0.5882353 0.4117647\n",
       "\n",
       "   Foreign_worker\n",
       "Y          A201        A202\n",
       "  0 0.991631799 0.008368201\n",
       "  1 0.955436720 0.044563280\n"
      ]
     },
     "metadata": {},
     "output_type": "display_data"
    }
   ],
   "source": [
    "# Create the Naivebayes with all predictors\n",
    "model_naiveBayes <- naiveBayes(C_Risk ~ ., data = CreditData_training)\n",
    "model_naiveBayes"
   ]
  },
  {
   "cell_type": "code",
   "execution_count": 10,
   "metadata": {},
   "outputs": [
    {
     "data": {
      "text/plain": [
       "      Prediction\n",
       "Actual   0   1\n",
       "     0 131  75\n",
       "     1 108 486"
      ]
     },
     "metadata": {},
     "output_type": "display_data"
    }
   ],
   "source": [
    "# Create the confusion matrix for naiveBayes\n",
    "nb_train_predict <- predict(model_naiveBayes, CreditData_training)\n",
    "nb_matrix<-table('Actual'=nb_train_predict, 'Prediction'=CreditData_training$C_Risk)\n",
    "nb_matrix"
   ]
  },
  {
   "cell_type": "code",
   "execution_count": 11,
   "metadata": {},
   "outputs": [
    {
     "data": {
      "text/html": [
       "77.12"
      ],
      "text/latex": [
       "77.12"
      ],
      "text/markdown": [
       "77.12"
      ],
      "text/plain": [
       "[1] 77.12"
      ]
     },
     "metadata": {},
     "output_type": "display_data"
    }
   ],
   "source": [
    "N <- nrow(CreditData_training)  # number of observations\n",
    "diag <- diag(nb_matrix)  # TN and TP\n",
    "Accuracy <- sum(diag)/N         # accuracy = (TP + TN)/N \n",
    "round(Accuracy*100,2)"
   ]
  },
  {
   "cell_type": "code",
   "execution_count": 12,
   "metadata": {},
   "outputs": [
    {
     "data": {
      "text/html": [
       "<table>\n",
       "<thead><tr><th></th><th scope=col>Actual.Dist</th><th scope=col>Predicted.Dist</th></tr></thead>\n",
       "<tbody>\n",
       "\t<tr><th scope=row>0</th><td>25.75</td><td>29.88</td></tr>\n",
       "\t<tr><th scope=row>1</th><td>74.25</td><td>70.12</td></tr>\n",
       "</tbody>\n",
       "</table>\n"
      ],
      "text/latex": [
       "\\begin{tabular}{r|ll}\n",
       "  & Actual.Dist & Predicted.Dist\\\\\n",
       "\\hline\n",
       "\t0 & 25.75 & 29.88\\\\\n",
       "\t1 & 74.25 & 70.12\\\\\n",
       "\\end{tabular}\n"
      ],
      "text/markdown": [
       "\n",
       "| <!--/--> | Actual.Dist | Predicted.Dist | \n",
       "|---|---|\n",
       "| 0 | 25.75 | 29.88 | \n",
       "| 1 | 74.25 | 70.12 | \n",
       "\n",
       "\n"
      ],
      "text/plain": [
       "  Actual.Dist Predicted.Dist\n",
       "0 25.75       29.88         \n",
       "1 74.25       70.12         "
      ]
     },
     "metadata": {},
     "output_type": "display_data"
    }
   ],
   "source": [
    "rowsums = apply(nb_matrix, 1, sum)\t# number of observations per class\n",
    "colsums = apply(nb_matrix, 2, sum)\t# number of predictions per class\n",
    "Actual.Dist = rowsums / N\t\t\t\t\t# distribution of observations over the actual classes\n",
    "Predicted.Dist= colsums / N\t\t\t\t\t# distribution of observations over the predicted classes\n",
    "round(data.frame(Actual.Dist,Predicted.Dist)*100,2)"
   ]
  },
  {
   "cell_type": "code",
   "execution_count": 13,
   "metadata": {},
   "outputs": [
    {
     "data": {
      "text/html": [
       "<table>\n",
       "<thead><tr><th></th><th scope=col>Precision</th><th scope=col>Recall</th><th scope=col>F1</th><th scope=col>Actual.Dist</th><th scope=col>Predicted.Dist</th></tr></thead>\n",
       "<tbody>\n",
       "\t<tr><th scope=row>0</th><td>54.81</td><td>63.59</td><td>58.88</td><td>25.75</td><td>29.88</td></tr>\n",
       "\t<tr><th scope=row>1</th><td>86.63</td><td>81.82</td><td>84.16</td><td>74.25</td><td>70.12</td></tr>\n",
       "</tbody>\n",
       "</table>\n"
      ],
      "text/latex": [
       "\\begin{tabular}{r|lllll}\n",
       "  & Precision & Recall & F1 & Actual.Dist & Predicted.Dist\\\\\n",
       "\\hline\n",
       "\t0 & 54.81 & 63.59 & 58.88 & 25.75 & 29.88\\\\\n",
       "\t1 & 86.63 & 81.82 & 84.16 & 74.25 & 70.12\\\\\n",
       "\\end{tabular}\n"
      ],
      "text/markdown": [
       "\n",
       "| <!--/--> | Precision | Recall | F1 | Actual.Dist | Predicted.Dist | \n",
       "|---|---|\n",
       "| 0 | 54.81 | 63.59 | 58.88 | 25.75 | 29.88 | \n",
       "| 1 | 86.63 | 81.82 | 84.16 | 74.25 | 70.12 | \n",
       "\n",
       "\n"
      ],
      "text/plain": [
       "  Precision Recall F1    Actual.Dist Predicted.Dist\n",
       "0 54.81     63.59  58.88 25.75       29.88         \n",
       "1 86.63     81.82  84.16 74.25       70.12         "
      ]
     },
     "metadata": {},
     "output_type": "display_data"
    }
   ],
   "source": [
    "Precision = diag / colsums\n",
    "Recall = diag / rowsums\n",
    "F1 = 2 * Precision * Recall / (Precision + Recall) \n",
    "round(data.frame(Precision, Recall, F1, Actual.Dist, Predicted.Dist)*100,2)"
   ]
  },
  {
   "cell_type": "code",
   "execution_count": 14,
   "metadata": {},
   "outputs": [
    {
     "data": {
      "text/html": [
       "<dl class=dl-horizontal>\n",
       "\t<dt>(Intercept)</dt>\n",
       "\t\t<dd>1.58980267852812</dd>\n",
       "\t<dt>Account_statusA12</dt>\n",
       "\t\t<dd>0.0728082182902135</dd>\n",
       "\t<dt>Account_statusA13</dt>\n",
       "\t\t<dd>0.197690003149095</dd>\n",
       "\t<dt>Account_statusA14</dt>\n",
       "\t\t<dd>0.298619799373974</dd>\n",
       "\t<dt>Duration</dt>\n",
       "\t\t<dd>-0.00450232462298322</dd>\n",
       "\t<dt>Cre_historyA31</dt>\n",
       "\t\t<dd>-0.18928771747853</dd>\n",
       "\t<dt>Cre_historyA34</dt>\n",
       "\t\t<dd>0.0977104834043988</dd>\n",
       "\t<dt>PurposeA41</dt>\n",
       "\t\t<dd>0.211072104507502</dd>\n",
       "\t<dt>PurposeA42</dt>\n",
       "\t\t<dd>0.0977239557900708</dd>\n",
       "\t<dt>PurposeA43</dt>\n",
       "\t\t<dd>0.108720856076189</dd>\n",
       "\t<dt>PurposeA48</dt>\n",
       "\t\t<dd>0.260988080985897</dd>\n",
       "\t<dt>Cre_amount</dt>\n",
       "\t\t<dd>-1.86204369297592e-05</dd>\n",
       "\t<dt>SavingsA64</dt>\n",
       "\t\t<dd>0.138179437680315</dd>\n",
       "\t<dt>SavingsA65</dt>\n",
       "\t\t<dd>0.0794804342727551</dd>\n",
       "\t<dt>Present_employmentA74</dt>\n",
       "\t\t<dd>0.117978153555006</dd>\n",
       "\t<dt>Installment_rate_income</dt>\n",
       "\t\t<dd>-0.054448826898541</dd>\n",
       "\t<dt>Personal_statusA93</dt>\n",
       "\t\t<dd>0.102582353537867</dd>\n",
       "\t<dt>Other_debtorsA103</dt>\n",
       "\t\t<dd>0.170700953192816</dd>\n",
       "\t<dt>Age</dt>\n",
       "\t\t<dd>0.00286003269571771</dd>\n",
       "\t<dt>HousingA152</dt>\n",
       "\t\t<dd>0.0598952216830239</dd>\n",
       "\t<dt>No._credits</dt>\n",
       "\t\t<dd>-0.0483002610599884</dd>\n",
       "</dl>\n"
      ],
      "text/latex": [
       "\\begin{description*}\n",
       "\\item[(Intercept)] 1.58980267852812\n",
       "\\item[Account\\textbackslash{}\\_statusA12] 0.0728082182902135\n",
       "\\item[Account\\textbackslash{}\\_statusA13] 0.197690003149095\n",
       "\\item[Account\\textbackslash{}\\_statusA14] 0.298619799373974\n",
       "\\item[Duration] -0.00450232462298322\n",
       "\\item[Cre\\textbackslash{}\\_historyA31] -0.18928771747853\n",
       "\\item[Cre\\textbackslash{}\\_historyA34] 0.0977104834043988\n",
       "\\item[PurposeA41] 0.211072104507502\n",
       "\\item[PurposeA42] 0.0977239557900708\n",
       "\\item[PurposeA43] 0.108720856076189\n",
       "\\item[PurposeA48] 0.260988080985897\n",
       "\\item[Cre\\textbackslash{}\\_amount] -1.86204369297592e-05\n",
       "\\item[SavingsA64] 0.138179437680315\n",
       "\\item[SavingsA65] 0.0794804342727551\n",
       "\\item[Present\\textbackslash{}\\_employmentA74] 0.117978153555006\n",
       "\\item[Installment\\textbackslash{}\\_rate\\textbackslash{}\\_income] -0.054448826898541\n",
       "\\item[Personal\\textbackslash{}\\_statusA93] 0.102582353537867\n",
       "\\item[Other\\textbackslash{}\\_debtorsA103] 0.170700953192816\n",
       "\\item[Age] 0.00286003269571771\n",
       "\\item[HousingA152] 0.0598952216830239\n",
       "\\item[No.\\textbackslash{}\\_credits] -0.0483002610599884\n",
       "\\end{description*}\n"
      ],
      "text/markdown": [
       "(Intercept)\n",
       ":   1.58980267852812Account_statusA12\n",
       ":   0.0728082182902135Account_statusA13\n",
       ":   0.197690003149095Account_statusA14\n",
       ":   0.298619799373974Duration\n",
       ":   -0.00450232462298322Cre_historyA31\n",
       ":   -0.18928771747853Cre_historyA34\n",
       ":   0.0977104834043988PurposeA41\n",
       ":   0.211072104507502PurposeA42\n",
       ":   0.0977239557900708PurposeA43\n",
       ":   0.108720856076189PurposeA48\n",
       ":   0.260988080985897Cre_amount\n",
       ":   -1.86204369297592e-05SavingsA64\n",
       ":   0.138179437680315SavingsA65\n",
       ":   0.0794804342727551Present_employmentA74\n",
       ":   0.117978153555006Installment_rate_income\n",
       ":   -0.054448826898541Personal_statusA93\n",
       ":   0.102582353537867Other_debtorsA103\n",
       ":   0.170700953192816Age\n",
       ":   0.00286003269571771HousingA152\n",
       ":   0.0598952216830239No._credits\n",
       ":   -0.0483002610599884\n",
       "\n"
      ],
      "text/plain": [
       "            (Intercept)       Account_statusA12       Account_statusA13 \n",
       "           1.589803e+00            7.280822e-02            1.976900e-01 \n",
       "      Account_statusA14                Duration          Cre_historyA31 \n",
       "           2.986198e-01           -4.502325e-03           -1.892877e-01 \n",
       "         Cre_historyA34              PurposeA41              PurposeA42 \n",
       "           9.771048e-02            2.110721e-01            9.772396e-02 \n",
       "             PurposeA43              PurposeA48              Cre_amount \n",
       "           1.087209e-01            2.609881e-01           -1.862044e-05 \n",
       "             SavingsA64              SavingsA65   Present_employmentA74 \n",
       "           1.381794e-01            7.948043e-02            1.179782e-01 \n",
       "Installment_rate_income      Personal_statusA93       Other_debtorsA103 \n",
       "          -5.444883e-02            1.025824e-01            1.707010e-01 \n",
       "                    Age             HousingA152             No._credits \n",
       "           2.860033e-03            5.989522e-02           -4.830026e-02 "
      ]
     },
     "metadata": {},
     "output_type": "display_data"
    },
    {
     "data": {
      "image/png": "[encoded data removed]",
      "text/plain": [
       "plot without title"
      ]
     },
     "metadata": {},
     "output_type": "display_data"
    }
   ],
   "source": [
    "# Apply the forward and backward seletion, use codf funtion to find the predictors according to cp.\n",
    "regfit.fwd<-regsubsets(C_Risk~.,data = CreditData_training,nvmax=20,method='forward')\n",
    "plot(regfit.fwd,scale='Cp')\n",
    "coef(regfit.fwd,which.min(summary(regfit.fwd)$cp))"
   ]
  },
  {
   "cell_type": "code",
   "execution_count": 15,
   "metadata": {},
   "outputs": [
    {
     "data": {
      "text/html": [
       "<dl class=dl-horizontal>\n",
       "\t<dt>(Intercept)</dt>\n",
       "\t\t<dd>1.4941296843328</dd>\n",
       "\t<dt>Account_statusA13</dt>\n",
       "\t\t<dd>0.157785832860117</dd>\n",
       "\t<dt>Account_statusA14</dt>\n",
       "\t\t<dd>0.254627579004318</dd>\n",
       "\t<dt>Duration</dt>\n",
       "\t\t<dd>-0.00483651266892577</dd>\n",
       "\t<dt>Cre_historyA32</dt>\n",
       "\t\t<dd>0.194223390176096</dd>\n",
       "\t<dt>Cre_historyA33</dt>\n",
       "\t\t<dd>0.192460712888916</dd>\n",
       "\t<dt>Cre_historyA34</dt>\n",
       "\t\t<dd>0.26073794723606</dd>\n",
       "\t<dt>PurposeA41</dt>\n",
       "\t\t<dd>0.224520896225329</dd>\n",
       "\t<dt>PurposeA42</dt>\n",
       "\t\t<dd>0.108957061157973</dd>\n",
       "\t<dt>PurposeA43</dt>\n",
       "\t\t<dd>0.136816351565123</dd>\n",
       "\t<dt>PurposeA48</dt>\n",
       "\t\t<dd>0.319672528683978</dd>\n",
       "\t<dt>PurposeA49</dt>\n",
       "\t\t<dd>0.119237488194512</dd>\n",
       "\t<dt>Cre_amount</dt>\n",
       "\t\t<dd>-1.82297567245724e-05</dd>\n",
       "\t<dt>SavingsA64</dt>\n",
       "\t\t<dd>0.141395753289564</dd>\n",
       "\t<dt>SavingsA65</dt>\n",
       "\t\t<dd>0.0859182504042935</dd>\n",
       "\t<dt>Present_employmentA74</dt>\n",
       "\t\t<dd>0.110296057054645</dd>\n",
       "\t<dt>Installment_rate_income</dt>\n",
       "\t\t<dd>-0.0565363416931149</dd>\n",
       "\t<dt>Personal_statusA93</dt>\n",
       "\t\t<dd>0.12189656646218</dd>\n",
       "\t<dt>Other_debtorsA103</dt>\n",
       "\t\t<dd>0.182832918749357</dd>\n",
       "\t<dt>Age</dt>\n",
       "\t\t<dd>0.00272102477120669</dd>\n",
       "\t<dt>No._people</dt>\n",
       "\t\t<dd>-0.0723750662413564</dd>\n",
       "</dl>\n"
      ],
      "text/latex": [
       "\\begin{description*}\n",
       "\\item[(Intercept)] 1.4941296843328\n",
       "\\item[Account\\textbackslash{}\\_statusA13] 0.157785832860117\n",
       "\\item[Account\\textbackslash{}\\_statusA14] 0.254627579004318\n",
       "\\item[Duration] -0.00483651266892577\n",
       "\\item[Cre\\textbackslash{}\\_historyA32] 0.194223390176096\n",
       "\\item[Cre\\textbackslash{}\\_historyA33] 0.192460712888916\n",
       "\\item[Cre\\textbackslash{}\\_historyA34] 0.26073794723606\n",
       "\\item[PurposeA41] 0.224520896225329\n",
       "\\item[PurposeA42] 0.108957061157973\n",
       "\\item[PurposeA43] 0.136816351565123\n",
       "\\item[PurposeA48] 0.319672528683978\n",
       "\\item[PurposeA49] 0.119237488194512\n",
       "\\item[Cre\\textbackslash{}\\_amount] -1.82297567245724e-05\n",
       "\\item[SavingsA64] 0.141395753289564\n",
       "\\item[SavingsA65] 0.0859182504042935\n",
       "\\item[Present\\textbackslash{}\\_employmentA74] 0.110296057054645\n",
       "\\item[Installment\\textbackslash{}\\_rate\\textbackslash{}\\_income] -0.0565363416931149\n",
       "\\item[Personal\\textbackslash{}\\_statusA93] 0.12189656646218\n",
       "\\item[Other\\textbackslash{}\\_debtorsA103] 0.182832918749357\n",
       "\\item[Age] 0.00272102477120669\n",
       "\\item[No.\\textbackslash{}\\_people] -0.0723750662413564\n",
       "\\end{description*}\n"
      ],
      "text/markdown": [
       "(Intercept)\n",
       ":   1.4941296843328Account_statusA13\n",
       ":   0.157785832860117Account_statusA14\n",
       ":   0.254627579004318Duration\n",
       ":   -0.00483651266892577Cre_historyA32\n",
       ":   0.194223390176096Cre_historyA33\n",
       ":   0.192460712888916Cre_historyA34\n",
       ":   0.26073794723606PurposeA41\n",
       ":   0.224520896225329PurposeA42\n",
       ":   0.108957061157973PurposeA43\n",
       ":   0.136816351565123PurposeA48\n",
       ":   0.319672528683978PurposeA49\n",
       ":   0.119237488194512Cre_amount\n",
       ":   -1.82297567245724e-05SavingsA64\n",
       ":   0.141395753289564SavingsA65\n",
       ":   0.0859182504042935Present_employmentA74\n",
       ":   0.110296057054645Installment_rate_income\n",
       ":   -0.0565363416931149Personal_statusA93\n",
       ":   0.12189656646218Other_debtorsA103\n",
       ":   0.182832918749357Age\n",
       ":   0.00272102477120669No._people\n",
       ":   -0.0723750662413564\n",
       "\n"
      ],
      "text/plain": [
       "            (Intercept)       Account_statusA13       Account_statusA14 \n",
       "           1.494130e+00            1.577858e-01            2.546276e-01 \n",
       "               Duration          Cre_historyA32          Cre_historyA33 \n",
       "          -4.836513e-03            1.942234e-01            1.924607e-01 \n",
       "         Cre_historyA34              PurposeA41              PurposeA42 \n",
       "           2.607379e-01            2.245209e-01            1.089571e-01 \n",
       "             PurposeA43              PurposeA48              PurposeA49 \n",
       "           1.368164e-01            3.196725e-01            1.192375e-01 \n",
       "             Cre_amount              SavingsA64              SavingsA65 \n",
       "          -1.822976e-05            1.413958e-01            8.591825e-02 \n",
       "  Present_employmentA74 Installment_rate_income      Personal_statusA93 \n",
       "           1.102961e-01           -5.653634e-02            1.218966e-01 \n",
       "      Other_debtorsA103                     Age              No._people \n",
       "           1.828329e-01            2.721025e-03           -7.237507e-02 "
      ]
     },
     "metadata": {},
     "output_type": "display_data"
    },
    {
     "data": {
      "image/png": "[encoded data removed]",
      "text/plain": [
       "plot without title"
      ]
     },
     "metadata": {},
     "output_type": "display_data"
    }
   ],
   "source": [
    "regfit.bwd<-regsubsets(C_Risk~.,data = CreditData_training,nvmax=20,method='backward')\n",
    "plot(regfit.bwd,scale='Cp')\n",
    "coef(regfit.bwd,which.min(summary(regfit.bwd)$cp))"
   ]
  },
  {
   "cell_type": "code",
   "execution_count": 16,
   "metadata": {},
   "outputs": [
    {
     "data": {
      "text/plain": [
       "\n",
       "Call:\n",
       "glm(formula = C_Risk ~ Account_status + Duration + Cre_history + \n",
       "    Purpose + Cre_amount + Savings + Present_employment + Installment_rate_income + \n",
       "    Personal_status + Other_debtors + Age + No._people + Housing + \n",
       "    No._credits, family = binomial, data = CreditData_training)\n",
       "\n",
       "Deviance Residuals: \n",
       "    Min       1Q   Median       3Q      Max  \n",
       "-2.6324  -0.6781   0.3806   0.7179   2.8515  \n",
       "\n",
       "Coefficients:\n",
       "                          Estimate Std. Error z value Pr(>|z|)    \n",
       "(Intercept)             -5.324e-01  1.007e+00  -0.528  0.59719    \n",
       "Account_statusA12        2.237e-01  2.363e-01   0.947  0.34380    \n",
       "Account_statusA13        9.208e-01  3.938e-01   2.338  0.01936 *  \n",
       "Account_statusA14        1.703e+00  2.629e-01   6.477 9.38e-11 ***\n",
       "Duration                -3.169e-02  1.005e-02  -3.154  0.00161 ** \n",
       "Cre_historyA31          -3.979e-01  6.014e-01  -0.662  0.50817    \n",
       "Cre_historyA32           8.070e-01  4.674e-01   1.727  0.08422 .  \n",
       "Cre_historyA33           8.943e-01  5.161e-01   1.733  0.08310 .  \n",
       "Cre_historyA34           1.560e+00  4.829e-01   3.230  0.00124 ** \n",
       "PurposeA41               1.738e+00  4.351e-01   3.994 6.49e-05 ***\n",
       "PurposeA410              1.309e+00  7.954e-01   1.646  0.09974 .  \n",
       "PurposeA42               8.155e-01  2.904e-01   2.808  0.00499 ** \n",
       "PurposeA43               8.897e-01  2.759e-01   3.225  0.00126 ** \n",
       "PurposeA44               8.220e-01  8.706e-01   0.944  0.34507    \n",
       "PurposeA45               4.204e-01  5.889e-01   0.714  0.47533    \n",
       "PurposeA46              -1.526e-01  4.187e-01  -0.365  0.71548    \n",
       "PurposeA48               2.115e+00  1.186e+00   1.783  0.07465 .  \n",
       "PurposeA49               7.688e-01  3.762e-01   2.043  0.04103 *  \n",
       "Cre_amount              -1.101e-04  4.764e-05  -2.311  0.02084 *  \n",
       "SavingsA62               3.698e-01  3.078e-01   1.201  0.22961    \n",
       "SavingsA63               4.923e-01  4.751e-01   1.036  0.30014    \n",
       "SavingsA64               1.202e+00  5.295e-01   2.269  0.02325 *  \n",
       "SavingsA65               7.204e-01  2.803e-01   2.570  0.01018 *  \n",
       "Present_employmentA72    2.100e-01  4.380e-01   0.480  0.63151    \n",
       "Present_employmentA73    3.560e-01  4.079e-01   0.873  0.38277    \n",
       "Present_employmentA74    1.108e+00  4.566e-01   2.426  0.01528 *  \n",
       "Present_employmentA75    3.602e-01  4.159e-01   0.866  0.38648    \n",
       "Installment_rate_income -3.883e-01  9.630e-02  -4.033 5.52e-05 ***\n",
       "Personal_statusA92       4.177e-01  4.208e-01   0.993  0.32088    \n",
       "Personal_statusA93       1.175e+00  4.144e-01   2.835  0.00459 ** \n",
       "Personal_statusA94       4.808e-01  5.004e-01   0.961  0.33669    \n",
       "Other_debtorsA102       -7.805e-01  4.650e-01  -1.679  0.09324 .  \n",
       "Other_debtorsA103        9.625e-01  4.648e-01   2.071  0.03838 *  \n",
       "Age                      2.120e-02  1.016e-02   2.085  0.03703 *  \n",
       "No._people              -4.774e-01  2.792e-01  -1.710  0.08726 .  \n",
       "HousingA152              3.141e-01  2.523e-01   1.245  0.21304    \n",
       "HousingA153              1.137e-04  3.918e-01   0.000  0.99977    \n",
       "No._credits             -3.280e-01  2.049e-01  -1.601  0.10939    \n",
       "---\n",
       "Signif. codes:  0 ‘***’ 0.001 ‘**’ 0.01 ‘*’ 0.05 ‘.’ 0.1 ‘ ’ 1\n",
       "\n",
       "(Dispersion parameter for binomial family taken to be 1)\n",
       "\n",
       "    Null deviance: 975.68  on 799  degrees of freedom\n",
       "Residual deviance: 719.60  on 762  degrees of freedom\n",
       "AIC: 795.6\n",
       "\n",
       "Number of Fisher Scoring iterations: 5\n"
      ]
     },
     "metadata": {},
     "output_type": "display_data"
    }
   ],
   "source": [
    "#Build the regression with a subset of the predictors.\n",
    "model_logistic_ty <- glm(C_Risk~Account_status+Duration+Cre_history+Purpose+Cre_amount+Savings+\n",
    "                         Present_employment+Installment_rate_income+Personal_status+Other_debtors+Age+\n",
    "                         No._people+Housing+No._credits,data= CreditData_training,family = binomial)\n",
    "summary(model_logistic_ty)"
   ]
  },
  {
   "cell_type": "code",
   "execution_count": 17,
   "metadata": {},
   "outputs": [
    {
     "data": {
      "text/plain": [
       "      Prediction\n",
       "Actual   0   1\n",
       "     0 132 107\n",
       "     1  55 506"
      ]
     },
     "metadata": {},
     "output_type": "display_data"
    }
   ],
   "source": [
    "confusion.matrix.ty <- as.matrix(table('Actual'=model_logistic_ty$y, 'Prediction'=round(model_logistic_ty$fitted.values)))\n",
    "confusion.matrix.ty"
   ]
  },
  {
   "cell_type": "code",
   "execution_count": 18,
   "metadata": {},
   "outputs": [
    {
     "data": {
      "text/html": [
       "79.75"
      ],
      "text/latex": [
       "79.75"
      ],
      "text/markdown": [
       "79.75"
      ],
      "text/plain": [
       "[1] 79.75"
      ]
     },
     "metadata": {},
     "output_type": "display_data"
    }
   ],
   "source": [
    "N <- nrow(CreditData_training)  # number of observations\n",
    "diag <- diag(confusion.matrix.ty)  # TN and TP\n",
    "Accuracy <- sum(diag)/N         # accuracy = (TP + TN)/N \n",
    "round(Accuracy*100,2)"
   ]
  },
  {
   "cell_type": "code",
   "execution_count": 19,
   "metadata": {},
   "outputs": [
    {
     "data": {
      "text/html": [
       "<table>\n",
       "<thead><tr><th></th><th scope=col>Actual.Dist</th><th scope=col>Predicted.Dist</th></tr></thead>\n",
       "<tbody>\n",
       "\t<tr><th scope=row>0</th><td>29.88</td><td>23.38</td></tr>\n",
       "\t<tr><th scope=row>1</th><td>70.12</td><td>76.62</td></tr>\n",
       "</tbody>\n",
       "</table>\n"
      ],
      "text/latex": [
       "\\begin{tabular}{r|ll}\n",
       "  & Actual.Dist & Predicted.Dist\\\\\n",
       "\\hline\n",
       "\t0 & 29.88 & 23.38\\\\\n",
       "\t1 & 70.12 & 76.62\\\\\n",
       "\\end{tabular}\n"
      ],
      "text/markdown": [
       "\n",
       "| <!--/--> | Actual.Dist | Predicted.Dist | \n",
       "|---|---|\n",
       "| 0 | 29.88 | 23.38 | \n",
       "| 1 | 70.12 | 76.62 | \n",
       "\n",
       "\n"
      ],
      "text/plain": [
       "  Actual.Dist Predicted.Dist\n",
       "0 29.88       23.38         \n",
       "1 70.12       76.62         "
      ]
     },
     "metadata": {},
     "output_type": "display_data"
    }
   ],
   "source": [
    "rowsums = apply(confusion.matrix.ty, 1, sum)\t# number of observations per class\n",
    "colsums = apply(confusion.matrix.ty, 2, sum)\t# number of predictions per class\n",
    "Actual.Dist = rowsums / N\t\t\t\t\t# distribution of observations over the actual classes\n",
    "Predicted.Dist= colsums / N\t\t\t\t\t# distribution of observations over the predicted classes\n",
    "round(data.frame(Actual.Dist,Predicted.Dist)*100,2)"
   ]
  },
  {
   "cell_type": "code",
   "execution_count": 20,
   "metadata": {},
   "outputs": [
    {
     "data": {
      "text/html": [
       "<table>\n",
       "<thead><tr><th></th><th scope=col>Precision</th><th scope=col>Recall</th><th scope=col>F1</th><th scope=col>Actual.Dist</th><th scope=col>Predicted.Dist</th></tr></thead>\n",
       "<tbody>\n",
       "\t<tr><th scope=row>0</th><td>70.59</td><td>55.23</td><td>61.97</td><td>29.88</td><td>23.38</td></tr>\n",
       "\t<tr><th scope=row>1</th><td>82.54</td><td>90.20</td><td>86.20</td><td>70.12</td><td>76.62</td></tr>\n",
       "</tbody>\n",
       "</table>\n"
      ],
      "text/latex": [
       "\\begin{tabular}{r|lllll}\n",
       "  & Precision & Recall & F1 & Actual.Dist & Predicted.Dist\\\\\n",
       "\\hline\n",
       "\t0 & 70.59 & 55.23 & 61.97 & 29.88 & 23.38\\\\\n",
       "\t1 & 82.54 & 90.20 & 86.20 & 70.12 & 76.62\\\\\n",
       "\\end{tabular}\n"
      ],
      "text/markdown": [
       "\n",
       "| <!--/--> | Precision | Recall | F1 | Actual.Dist | Predicted.Dist | \n",
       "|---|---|\n",
       "| 0 | 70.59 | 55.23 | 61.97 | 29.88 | 23.38 | \n",
       "| 1 | 82.54 | 90.20 | 86.20 | 70.12 | 76.62 | \n",
       "\n",
       "\n"
      ],
      "text/plain": [
       "  Precision Recall F1    Actual.Dist Predicted.Dist\n",
       "0 70.59     55.23  61.97 29.88       23.38         \n",
       "1 82.54     90.20  86.20 70.12       76.62         "
      ]
     },
     "metadata": {},
     "output_type": "display_data"
    }
   ],
   "source": [
    "Precision = diag / colsums\n",
    "Recall = diag / rowsums\n",
    "F1 = 2 * Precision * Recall / (Precision + Recall) \n",
    "round(data.frame(Precision, Recall, F1, Actual.Dist, Predicted.Dist)*100,2)"
   ]
  },
  {
   "cell_type": "code",
   "execution_count": 21,
   "metadata": {},
   "outputs": [
    {
     "data": {
      "text/plain": [
       "\n",
       "Naive Bayes Classifier for Discrete Predictors\n",
       "\n",
       "Call:\n",
       "naiveBayes.default(x = X, y = Y, laplace = laplace, usekernel = ..1)\n",
       "\n",
       "A-priori probabilities:\n",
       "Y\n",
       "      0       1 \n",
       "0.29875 0.70125 \n",
       "\n",
       "Conditional probabilities:\n",
       "   Account_status\n",
       "Y          A11        A12        A13        A14\n",
       "  0 0.41422594 0.38912134 0.05020921 0.14644351\n",
       "  1 0.19607843 0.23707665 0.07664884 0.49019608\n",
       "\n",
       "   Duration\n",
       "Y       [,1]     [,2]\n",
       "  0 24.55649 13.27805\n",
       "  1 18.98752 11.25317\n",
       "\n",
       "   Cre_history\n",
       "Y          A30        A31        A32        A33        A34\n",
       "  0 0.08368201 0.08786611 0.54811715 0.10041841 0.17991632\n",
       "  1 0.02317291 0.02852050 0.52228164 0.08377897 0.34224599\n",
       "\n",
       "   Purpose\n",
       "Y          A40        A41       A410        A42        A43        A44\n",
       "  0 0.29707113 0.05020921 0.01673640 0.18828452 0.20920502 0.01255230\n",
       "  1 0.20142602 0.12299465 0.01069519 0.17647059 0.30837790 0.01069519\n",
       "   Purpose\n",
       "Y          A45        A46        A48        A49\n",
       "  0 0.02928870 0.08368201 0.00418410 0.10878661\n",
       "  1 0.02139037 0.04456328 0.01247772 0.09090909\n",
       "\n",
       "   Cre_amount\n",
       "Y       [,1]     [,2]\n",
       "  0 3815.962 3432.132\n",
       "  1 2924.717 2326.046\n",
       "\n",
       "   Savings\n",
       "Y          A61        A62        A63        A64        A65\n",
       "  0 0.69456067 0.12552301 0.02928870 0.02510460 0.12552301\n",
       "  1 0.55258467 0.10516934 0.07843137 0.06417112 0.19964349\n",
       "\n",
       "   Present_employment\n",
       "Y          A71        A72        A73        A74        A75\n",
       "  0 0.07949791 0.22594142 0.35146444 0.12552301 0.21757322\n",
       "  1 0.05169340 0.14081996 0.34046346 0.19786096 0.26916221\n",
       "\n",
       "   Installment_rate_income\n",
       "Y       [,1]     [,2]\n",
       "  0 3.125523 1.100486\n",
       "  1 2.898396 1.134845\n",
       "\n",
       "   Personal_status\n",
       "Y          A91        A92        A93        A94\n",
       "  0 0.07112971 0.38912134 0.45606695 0.08368201\n",
       "  1 0.03743316 0.28877005 0.58467023 0.08912656\n",
       "\n",
       "   Other_debtors\n",
       "Y         A101       A102       A103\n",
       "  0 0.90794979 0.05857741 0.03347280\n",
       "  1 0.91087344 0.02852050 0.06060606\n",
       "\n",
       "   Age\n",
       "Y       [,1]     [,2]\n",
       "  0 33.69038 11.19932\n",
       "  1 36.13725 11.51617\n",
       "\n",
       "   No._people\n",
       "Y       [,1]      [,2]\n",
       "  0 1.154812 0.3624842\n",
       "  1 1.144385 0.3517934\n",
       "\n",
       "   Housing\n",
       "Y         A151       A152       A153\n",
       "  0 0.22594142 0.62343096 0.15062762\n",
       "  1 0.15329768 0.75044563 0.09625668\n",
       "\n",
       "   No._credits\n",
       "Y       [,1]      [,2]\n",
       "  0 1.372385 0.5645618\n",
       "  1 1.406417 0.5721777\n"
      ]
     },
     "metadata": {},
     "output_type": "display_data"
    }
   ],
   "source": [
    "# Now we will also apply our new subset of predictors into NaiveBayes model\n",
    "model_naiveBayes_ty <- naiveBayes(C_Risk ~ Account_status+Duration+Cre_history+Purpose+Cre_amount+Savings+\n",
    "                         Present_employment+Installment_rate_income+Personal_status+Other_debtors+Age+\n",
    "                         No._people+Housing+No._credits, data = CreditData_training,usekernel=T)\n",
    "\n",
    "model_naiveBayes_ty"
   ]
  },
  {
   "cell_type": "code",
   "execution_count": 23,
   "metadata": {},
   "outputs": [
    {
     "data": {
      "text/plain": [
       "      Prediction\n",
       "Actual   0   1\n",
       "     0 130  68\n",
       "     1 109 493"
      ]
     },
     "metadata": {},
     "output_type": "display_data"
    }
   ],
   "source": [
    "# Create the confusion matrix for naiveBayes\n",
    "nb_train_predict <- predict(model_naiveBayes_ty, CreditData_training)\n",
    "nb_matrix_ty<-table('Actual'=nb_train_predict, 'Prediction'=CreditData_training$C_Risk)\n",
    "#nb_matrix <- confusionMatrix(table(nb_train_predict, CreditData_training$C_Risk))\n",
    "nb_matrix_ty"
   ]
  },
  {
   "cell_type": "code",
   "execution_count": 24,
   "metadata": {},
   "outputs": [
    {
     "data": {
      "text/html": [
       "77.88"
      ],
      "text/latex": [
       "77.88"
      ],
      "text/markdown": [
       "77.88"
      ],
      "text/plain": [
       "[1] 77.88"
      ]
     },
     "metadata": {},
     "output_type": "display_data"
    }
   ],
   "source": [
    "N <- nrow(CreditData_training)  # number of observations\n",
    "diag <- diag(nb_matrix_ty)  # TN and TP\n",
    "Accuracy <- sum(diag)/N         # accuracy = (TP + TN)/N \n",
    "round(Accuracy*100,2)"
   ]
  },
  {
   "cell_type": "code",
   "execution_count": 25,
   "metadata": {},
   "outputs": [
    {
     "data": {
      "text/html": [
       "<table>\n",
       "<thead><tr><th></th><th scope=col>Actual.Dist</th><th scope=col>Predicted.Dist</th></tr></thead>\n",
       "<tbody>\n",
       "\t<tr><th scope=row>0</th><td>24.75</td><td>29.88</td></tr>\n",
       "\t<tr><th scope=row>1</th><td>75.25</td><td>70.12</td></tr>\n",
       "</tbody>\n",
       "</table>\n"
      ],
      "text/latex": [
       "\\begin{tabular}{r|ll}\n",
       "  & Actual.Dist & Predicted.Dist\\\\\n",
       "\\hline\n",
       "\t0 & 24.75 & 29.88\\\\\n",
       "\t1 & 75.25 & 70.12\\\\\n",
       "\\end{tabular}\n"
      ],
      "text/markdown": [
       "\n",
       "| <!--/--> | Actual.Dist | Predicted.Dist | \n",
       "|---|---|\n",
       "| 0 | 24.75 | 29.88 | \n",
       "| 1 | 75.25 | 70.12 | \n",
       "\n",
       "\n"
      ],
      "text/plain": [
       "  Actual.Dist Predicted.Dist\n",
       "0 24.75       29.88         \n",
       "1 75.25       70.12         "
      ]
     },
     "metadata": {},
     "output_type": "display_data"
    }
   ],
   "source": [
    "rowsums = apply(nb_matrix_ty, 1, sum)\t# number of observations per class\n",
    "colsums = apply(nb_matrix_ty, 2, sum)\t# number of predictions per class\n",
    "Actual.Dist = rowsums / N\t\t\t\t\t# distribution of observations over the actual classes\n",
    "Predicted.Dist= colsums / N\t\t\t\t\t# distribution of observations over the predicted classes\n",
    "round(data.frame(Actual.Dist,Predicted.Dist)*100,2)"
   ]
  },
  {
   "cell_type": "code",
   "execution_count": 26,
   "metadata": {},
   "outputs": [
    {
     "data": {
      "text/html": [
       "<table>\n",
       "<thead><tr><th></th><th scope=col>Precision</th><th scope=col>Recall</th><th scope=col>F1</th><th scope=col>Actual.Dist</th><th scope=col>Predicted.Dist</th></tr></thead>\n",
       "<tbody>\n",
       "\t<tr><th scope=row>0</th><td>54.39</td><td>65.66</td><td>59.50</td><td>24.75</td><td>29.88</td></tr>\n",
       "\t<tr><th scope=row>1</th><td>87.88</td><td>81.89</td><td>84.78</td><td>75.25</td><td>70.12</td></tr>\n",
       "</tbody>\n",
       "</table>\n"
      ],
      "text/latex": [
       "\\begin{tabular}{r|lllll}\n",
       "  & Precision & Recall & F1 & Actual.Dist & Predicted.Dist\\\\\n",
       "\\hline\n",
       "\t0 & 54.39 & 65.66 & 59.50 & 24.75 & 29.88\\\\\n",
       "\t1 & 87.88 & 81.89 & 84.78 & 75.25 & 70.12\\\\\n",
       "\\end{tabular}\n"
      ],
      "text/markdown": [
       "\n",
       "| <!--/--> | Precision | Recall | F1 | Actual.Dist | Predicted.Dist | \n",
       "|---|---|\n",
       "| 0 | 54.39 | 65.66 | 59.50 | 24.75 | 29.88 | \n",
       "| 1 | 87.88 | 81.89 | 84.78 | 75.25 | 70.12 | \n",
       "\n",
       "\n"
      ],
      "text/plain": [
       "  Precision Recall F1    Actual.Dist Predicted.Dist\n",
       "0 54.39     65.66  59.50 24.75       29.88         \n",
       "1 87.88     81.89  84.78 75.25       70.12         "
      ]
     },
     "metadata": {},
     "output_type": "display_data"
    }
   ],
   "source": [
    "Precision = diag / colsums\n",
    "Recall = diag / rowsums\n",
    "F1 = 2 * Precision * Recall / (Precision + Recall) \n",
    "round(data.frame(Precision, Recall, F1, Actual.Dist, Predicted.Dist)*100,2)"
   ]
  },
  {
   "cell_type": "code",
   "execution_count": 27,
   "metadata": {},
   "outputs": [
    {
     "data": {
      "text/html": [
       "0.780516570350277"
      ],
      "text/latex": [
       "0.780516570350277"
      ],
      "text/markdown": [
       "0.780516570350277"
      ],
      "text/plain": [
       "[1] 0.7805166"
      ]
     },
     "metadata": {},
     "output_type": "display_data"
    },
    {
     "data": {
      "image/png": "[encoded data removed]",
      "text/plain": [
       "plot without title"
      ]
     },
     "metadata": {},
     "output_type": "display_data"
    }
   ],
   "source": [
    "# build the ROC curve and the AUC for new logistic model\n",
    "p <- predict(model_logistic_ty, newdata=CreditData_testing)\n",
    "pr <- prediction(p, CreditData_testing$C_Risk)\n",
    "prf <- performance(pr, measure = \"tpr\", x.measure = \"fpr\")\n",
    "plot(prf)\n",
    "\n",
    "auc <- performance(pr, measure = \"auc\")\n",
    "auc <- auc@y.values[[1]]\n",
    "auc"
   ]
  },
  {
   "cell_type": "code",
   "execution_count": 28,
   "metadata": {},
   "outputs": [
    {
     "data": {
      "text/html": [
       "0.795140936431183"
      ],
      "text/latex": [
       "0.795140936431183"
      ],
      "text/markdown": [
       "0.795140936431183"
      ],
      "text/plain": [
       "[1] 0.7951409"
      ]
     },
     "metadata": {},
     "output_type": "display_data"
    },
    {
     "data": {
      "image/png": "[encoded data removed]",
      "text/plain": [
       "plot without title"
      ]
     },
     "metadata": {},
     "output_type": "display_data"
    }
   ],
   "source": [
    "# build the ROC curve and the AUC for new naiveBayes model\n",
    "p <- predict(model_naiveBayes_ty, newdata=CreditData_testing,type='raw')\n",
    "pr <- prediction(p[,2], CreditData_testing$C_Risk)\n",
    "prf <- performance(pr, measure = \"tpr\", x.measure = \"fpr\")\n",
    "plot(prf)\n",
    "\n",
    "auc <- performance(pr, measure = \"auc\")\n",
    "auc <- auc@y.values[[1]]\n",
    "auc"
   ]
  },
  {
   "cell_type": "code",
   "execution_count": null,
   "metadata": {},
   "outputs": [],
   "source": []
  },
  {
   "cell_type": "code",
   "execution_count": null,
   "metadata": {},
   "outputs": [],
   "source": []
  },
  {
   "cell_type": "code",
   "execution_count": null,
   "metadata": {},
   "outputs": [],
   "source": []
  },
  {
   "cell_type": "code",
   "execution_count": null,
   "metadata": {},
   "outputs": [],
   "source": []
  }
 ],
 "metadata": {
  "kernelspec": {
   "display_name": "R",
   "language": "R",
   "name": "ir"
  },
  "language_info": {
   "codemirror_mode": "r",
   "file_extension": ".r",
   "mimetype": "text/x-r-source",
   "name": "R",
   "pygments_lexer": "r",
   "version": "3.4.3"
  }
 },
 "nbformat": 4,
 "nbformat_minor": 2
}
