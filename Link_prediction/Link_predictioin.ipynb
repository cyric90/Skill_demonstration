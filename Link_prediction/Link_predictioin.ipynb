{
 "cells": [
  {
   "cell_type": "code",
   "execution_count": 1,
   "metadata": {},
   "outputs": [],
   "source": [
    "# Import relevant library\n",
    "import pandas as pd\n",
    "import json\n",
    "import networkx as nx\n",
    "from itertools import combinations\n",
    "import tensorflow as tf\n",
    "import matplotlib.pyplot as plt\n",
    "import random\n",
    "from sklearn.metrics.pairwise import cosine_similarity"
   ]
  },
  {
   "cell_type": "code",
   "execution_count": 254,
   "metadata": {},
   "outputs": [],
   "source": [
    "# Import relevant library\n",
    "from sklearn.ensemble import RandomForestClassifier\n",
    "from sklearn.model_selection import train_test_split\n",
    "from sklearn.model_selection import RandomizedSearchCV\n",
    "from sklearn.ensemble import RandomForestRegressor\n",
    "from sklearn.metrics import roc_auc_score\n",
    "from sklearn.model_selection import validation_curve\n",
    "import numpy as np\n",
    "import matplotlib.pyplot as plt\n",
    "from sklearn.feature_selection import SelectFromModel\n",
    "from sklearn.linear_model import LogisticRegression\n",
    "from sklearn.metrics import plot_confusion_matrix"
   ]
  },
  {
   "cell_type": "markdown",
   "metadata": {},
   "source": [
    "# Read in dev set without dev edges information to test and tune model"
   ]
  },
  {
   "cell_type": "code",
   "execution_count": 56,
   "metadata": {},
   "outputs": [
    {
     "data": {
      "text/plain": [
       "(4866, 23)"
      ]
     },
     "execution_count": 56,
     "metadata": {},
     "output_type": "execute_result"
    }
   ],
   "source": [
    "dev_df = pd.read_csv('Data_dev_set_20200705_ver_1.csv')\n",
    "#dev_df = dev_df.drop('Id', axis=1)\n",
    "dev_df.shape #(4866, 23)"
   ]
  },
  {
   "cell_type": "code",
   "execution_count": 47,
   "metadata": {},
   "outputs": [],
   "source": [
    "# Drop the irrelevant columns and prepare the development set to be split into train and test purpose\n",
    "# Then the full development set will be used to train the final selected model\n",
    "X_dev = dev_df.drop(columns = ['Expected', 'Source', 'Sink'], axis=1)\n",
    "#print(X_dev[5])\n",
    "Y_dev = dev_df['Expected']\n",
    "#print(Y_dev[:5])"
   ]
  },
  {
   "cell_type": "markdown",
   "metadata": {},
   "source": [
    "# Try RF with dev set train and test"
   ]
  },
  {
   "cell_type": "code",
   "execution_count": 48,
   "metadata": {},
   "outputs": [],
   "source": [
    "# Split the development set into train (70%) and test(30%) sets.\n",
    "X_train, X_test, Y_train, Y_test = train_test_split(X_dev, Y_dev, test_size=0.3, random_state=0)"
   ]
  },
  {
   "cell_type": "code",
   "execution_count": 49,
   "metadata": {},
   "outputs": [
    {
     "data": {
      "text/plain": [
       "RandomForestClassifier(bootstrap=True, ccp_alpha=0.0, class_weight=None,\n",
       "                       criterion='gini', max_depth=None, max_features='auto',\n",
       "                       max_leaf_nodes=None, max_samples=None,\n",
       "                       min_impurity_decrease=0.0, min_impurity_split=None,\n",
       "                       min_samples_leaf=1, min_samples_split=2,\n",
       "                       min_weight_fraction_leaf=0.0, n_estimators=100,\n",
       "                       n_jobs=None, oob_score=False, random_state=0, verbose=0,\n",
       "                       warm_start=False)"
      ]
     },
     "execution_count": 49,
     "metadata": {},
     "output_type": "execute_result"
    }
   ],
   "source": [
    "# define the first random forest model with default parameters.\n",
    "rf_clf_default = RandomForestClassifier(random_state = 0)\n",
    "rf_clf_default.fit(X_train, Y_train)  "
   ]
  },
  {
   "cell_type": "code",
   "execution_count": 50,
   "metadata": {},
   "outputs": [
    {
     "name": "stdout",
     "output_type": "stream",
     "text": [
      "Accuracy of train 1.0\n",
      "Accuracy of test 0.7534246575342466\n",
      "AUC 0.8338812049039674\n"
     ]
    }
   ],
   "source": [
    "# Check the in sample accuracy, out of sample accuracy and AUC at test set.\n",
    "\n",
    "print('Accuracy of train', rf_clf_default.score(X_train, Y_train)) #accuracy in sample is tooooo high, may overfitting\n",
    "print('Accuracy of test', rf_clf_default.score(X_test, Y_test))\n",
    "\n",
    "Y_score = rf_clf_default.predict_proba(X_test)[:, 1] \n",
    "AUC = roc_auc_score(Y_test, Y_score)\n",
    "print('AUC', AUC)"
   ]
  },
  {
   "cell_type": "markdown",
   "metadata": {},
   "source": [
    "# Feature selection"
   ]
  },
  {
   "cell_type": "code",
   "execution_count": 28,
   "metadata": {
    "scrolled": true
   },
   "outputs": [
    {
     "data": {
      "image/png": "[encoded data removed]",
      "text/plain": [
       "<Figure size 720x864 with 1 Axes>"
      ]
     },
     "metadata": {
      "needs_background": "light"
     },
     "output_type": "display_data"
    }
   ],
   "source": [
    "# Plot the importance graph, and this is used in the final report.\n",
    "\n",
    "features_df = train_df.drop(columns = ['Expected', 'Source', 'Sink'], axis=1)\n",
    "features = features_df.columns\n",
    "importances = rf_clf_default.feature_importances_\n",
    "indices = (np.argsort(importances))[-25:]\n",
    "plt.figure(figsize=(10,12))\n",
    "plt.title('Feature Importances')\n",
    "plt.barh(range(len(indices)), importances[indices], color='r', align='center')\n",
    "plt.yticks(range(len(indices)), [features[i] for i in indices])\n",
    "plt.xlabel('Relative Importance')\n",
    "plt.show()"
   ]
  },
  {
   "cell_type": "code",
   "execution_count": 29,
   "metadata": {
    "collapsed": true
   },
   "outputs": [
    {
     "name": "stdout",
     "output_type": "stream",
     "text": [
      "Overlap_public_time 0.027899368084521335\n",
      "Cos_venue 0.0463249542717581\n",
      "Cos_keyword 0.08403245581673635\n",
      "Inter_venue 0.016904842175012667\n",
      "Inter_keyword 0.05082392424999337\n",
      "Num_paper 0.046058461978607926\n",
      "Jaccard 0.04268347067226285\n",
      "Resource_allocation 0.04559718066376191\n",
      "Pre_attachment 0.0498252664760743\n",
      "Adamic_adar 0.03390575390744637\n",
      "Com_neighbors 0.025287545026482137\n",
      "Clustering_min 0.08971701724369914\n",
      "Clustering_max 0.04654742086665619\n",
      "Sum_degree 0.037699447596138545\n",
      "Sum_keyword 0.04538211913609131\n",
      "Sum_venue 0.03880618927525643\n",
      "katz_min 0.09067528458078751\n",
      "katz_max 0.04735109262408839\n",
      "paperank_min 0.08746941914570128\n",
      "paperank_max 0.04700878620892386\n"
     ]
    }
   ],
   "source": [
    "for i in range(len(features)):\n",
    "    print(features[i], importances[i])"
   ]
  },
  {
   "cell_type": "code",
   "execution_count": 55,
   "metadata": {},
   "outputs": [
    {
     "name": "stdout",
     "output_type": "stream",
     "text": [
      "[0.016904842175012667, 0.025287545026482137, 0.027899368084521335, 0.03390575390744637, 0.037699447596138545, 0.03880618927525643, 0.04268347067226285, 0.04538211913609131, 0.04559718066376191, 0.046058461978607926, 0.0463249542717581, 0.04654742086665619, 0.04700878620892386, 0.04735109262408839, 0.0498252664760743, 0.05082392424999337, 0.08403245581673635, 0.08746941914570128, 0.08971701724369914, 0.09067528458078751]\n"
     ]
    }
   ],
   "source": [
    "print(sorted(importances))"
   ]
  },
  {
   "cell_type": "code",
   "execution_count": 57,
   "metadata": {},
   "outputs": [
    {
     "data": {
      "text/plain": [
       "('Inter_venue',\n",
       " 'Com_neighbors',\n",
       " 'Overlap_public_time',\n",
       " 'Admic_adar',\n",
       " 'Sum_degree',\n",
       " 'Sum_venue')"
      ]
     },
     "execution_count": 57,
     "metadata": {},
     "output_type": "execute_result"
    }
   ],
   "source": [
    "# drop importance with less than 0.04 not drop common neighbor\n",
    "'Inter_venue', 'Com_neighbors', 'Overlap_public_time', 'Admic_adar', 'Sum_degree', 'Sum_venue'"
   ]
  },
  {
   "cell_type": "code",
   "execution_count": 150,
   "metadata": {},
   "outputs": [],
   "source": [
    "# Refit the model with 5 less variable (not delete the common neighbours)\n",
    "X_dev = dev_df.drop(columns = ['Expected', 'Source', 'Sink', 'Inter_venue', 'Overlap_public_time', 'Adamic_adar', 'Sum_degree', 'Sum_venue'], axis=1)\n",
    "#print(X_dev[5])\n",
    "Y_dev = dev_df['Expected']\n",
    "#print(Y_dev[:5])"
   ]
  },
  {
   "cell_type": "code",
   "execution_count": 60,
   "metadata": {},
   "outputs": [
    {
     "name": "stdout",
     "output_type": "stream",
     "text": [
      "Accuracy of train 1.0\n",
      "Accuracy of test 0.75\n",
      "AUC 0.8261893887707942\n"
     ]
    }
   ],
   "source": [
    "# Split the new dev set\n",
    "X_train, X_test, Y_train, Y_test = train_test_split(X_dev, Y_dev, test_size=0.3, random_state=0)\n",
    "# still with default parameter\n",
    "rf_clf_default = RandomForestClassifier(random_state = 0)\n",
    "rf_clf_default.fit(X_train, Y_train)  \n",
    "\n",
    "#In sample accuracy, out of sample accuracy and AUC at test set\n",
    "print('Accuracy of train', rf_clf_default.score(X_train, Y_train)) #accuracy in sample is tooooo high, may overfitting\n",
    "print('Accuracy of test', rf_clf_default.score(X_test, Y_test))\n",
    "\n",
    "Y_score = rf_clf_default.predict_proba(X_test)[:, 1] \n",
    "AUC = roc_auc_score(Y_test, Y_score)\n",
    "print('AUC', AUC)"
   ]
  },
  {
   "cell_type": "markdown",
   "metadata": {},
   "source": [
    "# First time of tuning "
   ]
  },
  {
   "cell_type": "code",
   "execution_count": 211,
   "metadata": {},
   "outputs": [],
   "source": [
    "# hyperparameter tuning\n",
    "'''Original code was generated by Will Koehrsen, please check the following website\n",
    "https://towardsdatascience.com/hyperparameter-tuning-the-random-forest-in-python-using-scikit-learn-28d2aa77dd74'''\n",
    "\n",
    "# Number of trees in random forest\n",
    "n_estimators = [int(x) for x in np.linspace(start = 200, stop = 2000, num = 10)]\n",
    "# Maximum number of levels in tree\n",
    "max_depth = [5, 10, 20, 30, 40, 50]\n",
    "# Minimum number of samples required to split a node\n",
    "min_samples_split = [2, 5, 10]\n",
    "# Minimum number of samples required at each leaf node\n",
    "min_samples_leaf = [1, 2, 4]\n",
    "\n",
    "# Create the random grid\n",
    "random_grid = {'n_estimators': n_estimators,\n",
    "               'max_depth': max_depth,\n",
    "               'min_samples_split': min_samples_split,\n",
    "               'min_samples_leaf': min_samples_leaf}"
   ]
  },
  {
   "cell_type": "code",
   "execution_count": 213,
   "metadata": {},
   "outputs": [],
   "source": [
    "# Use the random grid to search for best hyperparameters\n",
    "# First create the base model to tune\n",
    "rf_clf_grid = RandomForestClassifier(random_state = 0)\n",
    "# Random search of parameters, using 3 fold cross validation, \n",
    "# search across 100 different combinations, and use AUC as the selection cretire\n",
    "rf_random = RandomizedSearchCV(estimator = rf_clf_grid, param_distributions = random_grid, \n",
    "                               n_iter = 100, cv = 3, verbose=2, random_state=0, n_jobs = -1, \n",
    "                               scoring = 'roc_auc')"
   ]
  },
  {
   "cell_type": "code",
   "execution_count": 214,
   "metadata": {
    "scrolled": true
   },
   "outputs": [
    {
     "name": "stdout",
     "output_type": "stream",
     "text": [
      "Fitting 3 folds for each of 100 candidates, totalling 300 fits\n"
     ]
    },
    {
     "name": "stderr",
     "output_type": "stream",
     "text": [
      "[Parallel(n_jobs=-1)]: Using backend LokyBackend with 4 concurrent workers.\n",
      "[Parallel(n_jobs=-1)]: Done  33 tasks      | elapsed:  3.3min\n",
      "[Parallel(n_jobs=-1)]: Done 154 tasks      | elapsed: 15.5min\n",
      "[Parallel(n_jobs=-1)]: Done 300 out of 300 | elapsed: 31.5min finished\n"
     ]
    }
   ],
   "source": [
    "# Grid search\n",
    "girdsearch = rf_random.fit(X_dev, Y_dev)"
   ]
  },
  {
   "cell_type": "code",
   "execution_count": 215,
   "metadata": {},
   "outputs": [
    {
     "data": {
      "text/plain": [
       "{'n_estimators': 1800,\n",
       " 'min_samples_split': 2,\n",
       " 'min_samples_leaf': 1,\n",
       " 'max_depth': 30}"
      ]
     },
     "execution_count": 215,
     "metadata": {},
     "output_type": "execute_result"
    }
   ],
   "source": [
    "# Print out the selected parameters\n",
    "girdsearch.best_params_"
   ]
  },
  {
   "cell_type": "code",
   "execution_count": 216,
   "metadata": {},
   "outputs": [
    {
     "name": "stdout",
     "output_type": "stream",
     "text": [
      "RandomForestClassifier(bootstrap=True, ccp_alpha=0.0, class_weight=None,\n",
      "                       criterion='gini', max_depth=30, max_features='auto',\n",
      "                       max_leaf_nodes=None, max_samples=None,\n",
      "                       min_impurity_decrease=0.0, min_impurity_split=None,\n",
      "                       min_samples_leaf=1, min_samples_split=2,\n",
      "                       min_weight_fraction_leaf=0.0, n_estimators=1800,\n",
      "                       n_jobs=None, oob_score=False, random_state=0, verbose=0,\n",
      "                       warm_start=False)\n"
     ]
    }
   ],
   "source": [
    "# Print out the selected random forest model\n",
    "print(rf_random.best_estimator_)"
   ]
  },
  {
   "cell_type": "code",
   "execution_count": 217,
   "metadata": {},
   "outputs": [],
   "source": [
    "# Refit the new model\n",
    "rf_clf_tune1 = RandomForestClassifier(bootstrap=True, ccp_alpha=0.0, class_weight=None,\n",
    "                       criterion='gini', max_depth=30, max_features='auto',\n",
    "                       max_leaf_nodes=None, max_samples=None,\n",
    "                       min_impurity_decrease=0.0, min_impurity_split=None,\n",
    "                       min_samples_leaf=1, min_samples_split=2,\n",
    "                       min_weight_fraction_leaf=0.0, n_estimators=1800,\n",
    "                       n_jobs=None, oob_score=False, random_state=0, verbose=0,\n",
    "                       warm_start=False)"
   ]
  },
  {
   "cell_type": "code",
   "execution_count": 219,
   "metadata": {},
   "outputs": [],
   "source": [
    "X_train, X_test, Y_train, Y_test = train_test_split(X_dev, Y_dev, test_size=0.3, random_state=0)"
   ]
  },
  {
   "cell_type": "code",
   "execution_count": 220,
   "metadata": {},
   "outputs": [
    {
     "data": {
      "text/plain": [
       "RandomForestClassifier(bootstrap=True, ccp_alpha=0.0, class_weight=None,\n",
       "                       criterion='gini', max_depth=30, max_features='auto',\n",
       "                       max_leaf_nodes=None, max_samples=None,\n",
       "                       min_impurity_decrease=0.0, min_impurity_split=None,\n",
       "                       min_samples_leaf=1, min_samples_split=2,\n",
       "                       min_weight_fraction_leaf=0.0, n_estimators=1800,\n",
       "                       n_jobs=None, oob_score=False, random_state=0, verbose=0,\n",
       "                       warm_start=False)"
      ]
     },
     "execution_count": 220,
     "metadata": {},
     "output_type": "execute_result"
    }
   ],
   "source": [
    "rf_clf_tune1.fit(X_train, Y_train)  "
   ]
  },
  {
   "cell_type": "code",
   "execution_count": 222,
   "metadata": {},
   "outputs": [
    {
     "name": "stdout",
     "output_type": "stream",
     "text": [
      "Accuracy of train 1.0\n",
      "Accuracy of dev 0.7541095890410959\n",
      "AUC 0.8321520733602852\n"
     ]
    }
   ],
   "source": [
    "# Check the in sample accuracy, out of sample accuracy and AUC at test set.\n",
    "print('Accuracy of train', rf_clf_tune1.score(X_train, Y_train))\n",
    "print('Accuracy of dev', rf_clf_tune1.score(X_test, Y_test))\n",
    "\n",
    "Y_score = rf_clf_tune1.predict_proba(X_test)[:, 1] \n",
    "AUC = roc_auc_score(Y_test, Y_score)\n",
    "print('AUC', AUC)"
   ]
  },
  {
   "cell_type": "code",
   "execution_count": 245,
   "metadata": {},
   "outputs": [],
   "source": [
    "#refit the new model with all development set\n",
    "X_dev = dev_df.drop(columns = ['Expected', 'Source', 'Sink', 'Inter_venue', 'Overlap_public_time', 'Adamic_adar', 'Sum_degree', 'Sum_venue'], axis=1)\n",
    "#print(X_dev[5])\n",
    "Y_dev = dev_df['Expected']\n",
    "#print(Y_dev[:5])"
   ]
  },
  {
   "cell_type": "code",
   "execution_count": 248,
   "metadata": {},
   "outputs": [
    {
     "data": {
      "text/plain": [
       "RandomForestClassifier(bootstrap=True, ccp_alpha=0.0, class_weight=None,\n",
       "                       criterion='gini', max_depth=30, max_features='auto',\n",
       "                       max_leaf_nodes=None, max_samples=None,\n",
       "                       min_impurity_decrease=0.0, min_impurity_split=None,\n",
       "                       min_samples_leaf=1, min_samples_split=2,\n",
       "                       min_weight_fraction_leaf=0.0, n_estimators=1800,\n",
       "                       n_jobs=None, oob_score=False, random_state=0, verbose=0,\n",
       "                       warm_start=False)"
      ]
     },
     "execution_count": 248,
     "metadata": {},
     "output_type": "execute_result"
    }
   ],
   "source": [
    "# refit the new models\n",
    "rf_clf_tune1.fit(X_dev, Y_dev)  "
   ]
  },
  {
   "cell_type": "code",
   "execution_count": 236,
   "metadata": {},
   "outputs": [
    {
     "data": {
      "text/html": [
       "<div>\n",
       "<style scoped>\n",
       "    .dataframe tbody tr th:only-of-type {\n",
       "        vertical-align: middle;\n",
       "    }\n",
       "\n",
       "    .dataframe tbody tr th {\n",
       "        vertical-align: top;\n",
       "    }\n",
       "\n",
       "    .dataframe thead th {\n",
       "        text-align: right;\n",
       "    }\n",
       "</style>\n",
       "<table border=\"1\" class=\"dataframe\">\n",
       "  <thead>\n",
       "    <tr style=\"text-align: right;\">\n",
       "      <th></th>\n",
       "      <th>Id</th>\n",
       "      <th>Source</th>\n",
       "      <th>Sink</th>\n",
       "      <th>Overlap_public_time</th>\n",
       "      <th>Cos_venue</th>\n",
       "      <th>Cos_keyword</th>\n",
       "      <th>Inter_venue</th>\n",
       "      <th>Inter_keyword</th>\n",
       "      <th>Num_paper</th>\n",
       "      <th>Jaccard</th>\n",
       "      <th>...</th>\n",
       "      <th>Com_neighbors</th>\n",
       "      <th>Clustering_min</th>\n",
       "      <th>Clustering_max</th>\n",
       "      <th>Sum_degree</th>\n",
       "      <th>Sum_keyword</th>\n",
       "      <th>Sum_venue</th>\n",
       "      <th>katz_min</th>\n",
       "      <th>katz_max</th>\n",
       "      <th>paperank_min</th>\n",
       "      <th>paperank_max</th>\n",
       "    </tr>\n",
       "  </thead>\n",
       "  <tbody>\n",
       "    <tr>\n",
       "      <th>0</th>\n",
       "      <td>1</td>\n",
       "      <td>2</td>\n",
       "      <td>3007</td>\n",
       "      <td>4</td>\n",
       "      <td>0.0</td>\n",
       "      <td>0.6480</td>\n",
       "      <td>0.0</td>\n",
       "      <td>23.0</td>\n",
       "      <td>1.625000</td>\n",
       "      <td>0.000000</td>\n",
       "      <td>...</td>\n",
       "      <td>0</td>\n",
       "      <td>0.202899</td>\n",
       "      <td>0.666667</td>\n",
       "      <td>27</td>\n",
       "      <td>43.0</td>\n",
       "      <td>8.0</td>\n",
       "      <td>0.015028</td>\n",
       "      <td>0.016688</td>\n",
       "      <td>0.000085</td>\n",
       "      <td>0.000420</td>\n",
       "    </tr>\n",
       "    <tr>\n",
       "      <th>1</th>\n",
       "      <td>2</td>\n",
       "      <td>3</td>\n",
       "      <td>127</td>\n",
       "      <td>3</td>\n",
       "      <td>0.0</td>\n",
       "      <td>0.8477</td>\n",
       "      <td>0.0</td>\n",
       "      <td>43.0</td>\n",
       "      <td>4.000000</td>\n",
       "      <td>0.200000</td>\n",
       "      <td>...</td>\n",
       "      <td>2</td>\n",
       "      <td>0.400000</td>\n",
       "      <td>0.466667</td>\n",
       "      <td>12</td>\n",
       "      <td>46.0</td>\n",
       "      <td>3.0</td>\n",
       "      <td>0.014965</td>\n",
       "      <td>0.015139</td>\n",
       "      <td>0.000101</td>\n",
       "      <td>0.000165</td>\n",
       "    </tr>\n",
       "    <tr>\n",
       "      <th>2</th>\n",
       "      <td>3</td>\n",
       "      <td>3</td>\n",
       "      <td>2254</td>\n",
       "      <td>3</td>\n",
       "      <td>0.0</td>\n",
       "      <td>0.9446</td>\n",
       "      <td>0.0</td>\n",
       "      <td>161.0</td>\n",
       "      <td>4.916667</td>\n",
       "      <td>0.000000</td>\n",
       "      <td>...</td>\n",
       "      <td>0</td>\n",
       "      <td>0.309091</td>\n",
       "      <td>0.400000</td>\n",
       "      <td>17</td>\n",
       "      <td>71.0</td>\n",
       "      <td>8.0</td>\n",
       "      <td>0.015139</td>\n",
       "      <td>0.015647</td>\n",
       "      <td>0.000165</td>\n",
       "      <td>0.000251</td>\n",
       "    </tr>\n",
       "    <tr>\n",
       "      <th>3</th>\n",
       "      <td>4</td>\n",
       "      <td>3</td>\n",
       "      <td>2727</td>\n",
       "      <td>1</td>\n",
       "      <td>0.0</td>\n",
       "      <td>0.6747</td>\n",
       "      <td>0.0</td>\n",
       "      <td>23.0</td>\n",
       "      <td>4.666667</td>\n",
       "      <td>0.250000</td>\n",
       "      <td>...</td>\n",
       "      <td>2</td>\n",
       "      <td>0.400000</td>\n",
       "      <td>0.833333</td>\n",
       "      <td>10</td>\n",
       "      <td>39.0</td>\n",
       "      <td>1.0</td>\n",
       "      <td>0.014989</td>\n",
       "      <td>0.015139</td>\n",
       "      <td>0.000086</td>\n",
       "      <td>0.000165</td>\n",
       "    </tr>\n",
       "    <tr>\n",
       "      <th>4</th>\n",
       "      <td>5</td>\n",
       "      <td>4</td>\n",
       "      <td>1147</td>\n",
       "      <td>8</td>\n",
       "      <td>0.0</td>\n",
       "      <td>0.9030</td>\n",
       "      <td>0.0</td>\n",
       "      <td>139.0</td>\n",
       "      <td>3.125000</td>\n",
       "      <td>0.017544</td>\n",
       "      <td>...</td>\n",
       "      <td>1</td>\n",
       "      <td>0.267974</td>\n",
       "      <td>0.756410</td>\n",
       "      <td>58</td>\n",
       "      <td>77.0</td>\n",
       "      <td>3.0</td>\n",
       "      <td>0.016422</td>\n",
       "      <td>0.018994</td>\n",
       "      <td>0.000303</td>\n",
       "      <td>0.000485</td>\n",
       "    </tr>\n",
       "  </tbody>\n",
       "</table>\n",
       "<p>5 rows × 23 columns</p>\n",
       "</div>"
      ],
      "text/plain": [
       "   Id  Source  Sink  Overlap_public_time  Cos_venue  Cos_keyword  Inter_venue  \\\n",
       "0   1       2  3007                    4        0.0       0.6480          0.0   \n",
       "1   2       3   127                    3        0.0       0.8477          0.0   \n",
       "2   3       3  2254                    3        0.0       0.9446          0.0   \n",
       "3   4       3  2727                    1        0.0       0.6747          0.0   \n",
       "4   5       4  1147                    8        0.0       0.9030          0.0   \n",
       "\n",
       "   Inter_keyword  Num_paper   Jaccard  ...  Com_neighbors  Clustering_min  \\\n",
       "0           23.0   1.625000  0.000000  ...              0        0.202899   \n",
       "1           43.0   4.000000  0.200000  ...              2        0.400000   \n",
       "2          161.0   4.916667  0.000000  ...              0        0.309091   \n",
       "3           23.0   4.666667  0.250000  ...              2        0.400000   \n",
       "4          139.0   3.125000  0.017544  ...              1        0.267974   \n",
       "\n",
       "   Clustering_max  Sum_degree  Sum_keyword  Sum_venue  katz_min  katz_max  \\\n",
       "0        0.666667          27         43.0        8.0  0.015028  0.016688   \n",
       "1        0.466667          12         46.0        3.0  0.014965  0.015139   \n",
       "2        0.400000          17         71.0        8.0  0.015139  0.015647   \n",
       "3        0.833333          10         39.0        1.0  0.014989  0.015139   \n",
       "4        0.756410          58         77.0        3.0  0.016422  0.018994   \n",
       "\n",
       "   paperank_min  paperank_max  \n",
       "0      0.000085      0.000420  \n",
       "1      0.000101      0.000165  \n",
       "2      0.000165      0.000251  \n",
       "3      0.000086      0.000165  \n",
       "4      0.000303      0.000485  \n",
       "\n",
       "[5 rows x 23 columns]"
      ]
     },
     "execution_count": 236,
     "metadata": {},
     "output_type": "execute_result"
    }
   ],
   "source": [
    "# predict the public test set with the new model\n",
    "# read in the public test set\n",
    "public_test_df = pd.read_csv('Data_public_test_set_20200705ver1.csv')\n",
    "public_test_df.head() #(4460, 23)"
   ]
  },
  {
   "cell_type": "code",
   "execution_count": 237,
   "metadata": {},
   "outputs": [],
   "source": [
    "# Drop the irrelevant columns to prepare for the test input\n",
    "public_test_df = public_test_df.drop(columns = ['Id', 'Source', 'Sink', 'Inter_venue', 'Overlap_public_time', 'Adamic_adar', 'Sum_degree', 'Sum_venue'], axis=1)\n",
    "X_final_test = public_test_df\n",
    "#print(X_final_test[0])"
   ]
  },
  {
   "cell_type": "code",
   "execution_count": 249,
   "metadata": {},
   "outputs": [
    {
     "name": "stdout",
     "output_type": "stream",
     "text": [
      "[0.58944444 0.98666667 0.22388911 0.99388889 0.45666667]\n",
      "[ 1  1 -1  1 -1]\n"
     ]
    }
   ],
   "source": [
    "# Predict the public test set\n",
    "result_class_2 = rf_clf_tune1.predict_proba(X_final_test)[:, 1] \n",
    "print(result_class_2[:5])\n",
    "label1 = rf_clf_tune1.predict(X_final_test)\n",
    "print(label1[:5])"
   ]
  },
  {
   "cell_type": "code",
   "execution_count": 250,
   "metadata": {},
   "outputs": [],
   "source": [
    "# Generate the output dataframe\n",
    "predicted = []\n",
    "for i in result_class_2:\n",
    "    predicted.append(i)\n",
    "    \n",
    "id_value = []\n",
    "for i in range(1, len(predicted) + 1):\n",
    "    id_value.append(i)\n",
    "\n",
    "data = {'Id': id_value, 'Predicted': predicted}\n",
    "output_df = pd.DataFrame(data, columns = ['Id', 'Predicted'])"
   ]
  },
  {
   "cell_type": "code",
   "execution_count": 251,
   "metadata": {},
   "outputs": [
    {
     "data": {
      "text/html": [
       "<div>\n",
       "<style scoped>\n",
       "    .dataframe tbody tr th:only-of-type {\n",
       "        vertical-align: middle;\n",
       "    }\n",
       "\n",
       "    .dataframe tbody tr th {\n",
       "        vertical-align: top;\n",
       "    }\n",
       "\n",
       "    .dataframe thead th {\n",
       "        text-align: right;\n",
       "    }\n",
       "</style>\n",
       "<table border=\"1\" class=\"dataframe\">\n",
       "  <thead>\n",
       "    <tr style=\"text-align: right;\">\n",
       "      <th></th>\n",
       "      <th>Id</th>\n",
       "      <th>Predicted</th>\n",
       "    </tr>\n",
       "  </thead>\n",
       "  <tbody>\n",
       "    <tr>\n",
       "      <th>0</th>\n",
       "      <td>1</td>\n",
       "      <td>0.589444</td>\n",
       "    </tr>\n",
       "    <tr>\n",
       "      <th>1</th>\n",
       "      <td>2</td>\n",
       "      <td>0.986667</td>\n",
       "    </tr>\n",
       "    <tr>\n",
       "      <th>2</th>\n",
       "      <td>3</td>\n",
       "      <td>0.223889</td>\n",
       "    </tr>\n",
       "    <tr>\n",
       "      <th>3</th>\n",
       "      <td>4</td>\n",
       "      <td>0.993889</td>\n",
       "    </tr>\n",
       "    <tr>\n",
       "      <th>4</th>\n",
       "      <td>5</td>\n",
       "      <td>0.456667</td>\n",
       "    </tr>\n",
       "  </tbody>\n",
       "</table>\n",
       "</div>"
      ],
      "text/plain": [
       "   Id  Predicted\n",
       "0   1   0.589444\n",
       "1   2   0.986667\n",
       "2   3   0.223889\n",
       "3   4   0.993889\n",
       "4   5   0.456667"
      ]
     },
     "execution_count": 251,
     "metadata": {},
     "output_type": "execute_result"
    }
   ],
   "source": [
    "# Check the data frame\n",
    "output_df.head()"
   ]
  },
  {
   "cell_type": "code",
   "execution_count": 252,
   "metadata": {},
   "outputs": [],
   "source": [
    "# Export the csv file\n",
    "output_df.to_csv('test_ouput_20200705_ver_2.csv', index = False)"
   ]
  },
  {
   "cell_type": "markdown",
   "metadata": {},
   "source": [
    "# Tune the model (Final tuning)"
   ]
  },
  {
   "cell_type": "code",
   "execution_count": 275,
   "metadata": {},
   "outputs": [],
   "source": [
    "# Regenerate the development set with 5 less features\n",
    "X_dev = dev_df.drop(columns = ['Expected', 'Source', 'Sink', 'Inter_venue', 'Overlap_public_time', 'Adamic_adar', 'Sum_degree', 'Sum_venue'], axis=1)\n",
    "#print(X_dev[5])\n",
    "Y_dev = dev_df['Expected']\n",
    "#print(Y_dev[:5])"
   ]
  },
  {
   "cell_type": "code",
   "execution_count": 199,
   "metadata": {},
   "outputs": [],
   "source": [
    "# hyperparameter tuning\n",
    "'''Original code was generated by Will Koehrsen, please check the following website\n",
    "https://towardsdatascience.com/hyperparameter-tuning-the-random-forest-in-python-using-scikit-learn-28d2aa77dd74'''\n",
    "\n",
    "# Number of trees in random forest\n",
    "n_estimators = [int(x) for x in np.linspace(start = 200, stop = 2000, num = 10)]\n",
    "# Maximum number of levels in tree\n",
    "max_depth = [5, 10, 20, 30, 40, 50]\n",
    "# Minimum number of samples required to split a node\n",
    "min_samples_split = [4, 5, 6]\n",
    "# Minimum number of samples required at each leaf node\n",
    "min_samples_leaf = [3, 4, 5]\n",
    "# Method of selecting samples for training each tree\n",
    "#bootstrap = [True, False]\n",
    "\n",
    "# Create the random grid\n",
    "random_grid = {'n_estimators': n_estimators,\n",
    "               'max_depth': max_depth,\n",
    "               'min_samples_split': min_samples_split,\n",
    "               'min_samples_leaf': min_samples_leaf}"
   ]
  },
  {
   "cell_type": "code",
   "execution_count": 200,
   "metadata": {},
   "outputs": [],
   "source": [
    "# Use the random grid to search for best hyperparameters\n",
    "# First create the base model to tune\n",
    "rf_clf_grid = RandomForestClassifier(random_state = 0)\n",
    "# Random search of parameters, using 3 fold cross validation, \n",
    "# search across 100 different combinations, and use AUC as the selection criteria\n",
    "rf_random = RandomizedSearchCV(estimator = rf_clf_grid, param_distributions = random_grid, \n",
    "                               n_iter = 100, cv = 3, verbose=2, random_state=0, n_jobs = -1, \n",
    "                               scoring = 'roc_auc')"
   ]
  },
  {
   "cell_type": "code",
   "execution_count": 201,
   "metadata": {},
   "outputs": [
    {
     "name": "stdout",
     "output_type": "stream",
     "text": [
      "Fitting 3 folds for each of 100 candidates, totalling 300 fits\n"
     ]
    },
    {
     "name": "stderr",
     "output_type": "stream",
     "text": [
      "[Parallel(n_jobs=-1)]: Using backend LokyBackend with 4 concurrent workers.\n",
      "[Parallel(n_jobs=-1)]: Done  33 tasks      | elapsed:  1.8min\n",
      "[Parallel(n_jobs=-1)]: Done 154 tasks      | elapsed:  8.1min\n",
      "[Parallel(n_jobs=-1)]: Done 300 out of 300 | elapsed: 15.3min finished\n"
     ]
    }
   ],
   "source": [
    "# Grid search\n",
    "girdsearch = rf_random.fit(X_dev, Y_dev)"
   ]
  },
  {
   "cell_type": "code",
   "execution_count": 202,
   "metadata": {},
   "outputs": [
    {
     "data": {
      "text/plain": [
       "{'n_estimators': 200,\n",
       " 'min_samples_split': 5,\n",
       " 'min_samples_leaf': 4,\n",
       " 'max_depth': 30}"
      ]
     },
     "execution_count": 202,
     "metadata": {},
     "output_type": "execute_result"
    }
   ],
   "source": [
    "# Print out the selected parameter\n",
    "girdsearch.best_params_"
   ]
  },
  {
   "cell_type": "code",
   "execution_count": 203,
   "metadata": {},
   "outputs": [
    {
     "name": "stdout",
     "output_type": "stream",
     "text": [
      "RandomForestClassifier(bootstrap=True, ccp_alpha=0.0, class_weight=None,\n",
      "                       criterion='gini', max_depth=30, max_features='auto',\n",
      "                       max_leaf_nodes=None, max_samples=None,\n",
      "                       min_impurity_decrease=0.0, min_impurity_split=None,\n",
      "                       min_samples_leaf=4, min_samples_split=5,\n",
      "                       min_weight_fraction_leaf=0.0, n_estimators=200,\n",
      "                       n_jobs=None, oob_score=False, random_state=0, verbose=0,\n",
      "                       warm_start=False)\n"
     ]
    }
   ],
   "source": [
    "# Print out the selected new model\n",
    "print(rf_random.best_estimator_)"
   ]
  },
  {
   "cell_type": "code",
   "execution_count": 256,
   "metadata": {},
   "outputs": [],
   "source": [
    "# Redifine the final random forest\n",
    "# And the refit the model\n",
    "rf_clf = RandomForestClassifier(bootstrap=True, ccp_alpha=0.0, class_weight=None,\n",
    "                       criterion='gini', max_depth=30, max_features='auto',\n",
    "                       max_leaf_nodes=None, max_samples=None,\n",
    "                       min_impurity_decrease=0.0, min_impurity_split=None,\n",
    "                       min_samples_leaf=4, min_samples_split=5,\n",
    "                       min_weight_fraction_leaf=0.0, n_estimators=200,\n",
    "                       n_jobs=None, oob_score=False, random_state=0, verbose=0,\n",
    "                       warm_start=False)"
   ]
  },
  {
   "cell_type": "code",
   "execution_count": 276,
   "metadata": {},
   "outputs": [],
   "source": [
    "X_train, X_test, Y_train, Y_test = train_test_split(X_dev, Y_dev, test_size=0.3, random_state=0)"
   ]
  },
  {
   "cell_type": "code",
   "execution_count": 258,
   "metadata": {},
   "outputs": [
    {
     "data": {
      "text/plain": [
       "RandomForestClassifier(bootstrap=True, ccp_alpha=0.0, class_weight=None,\n",
       "                       criterion='gini', max_depth=30, max_features='auto',\n",
       "                       max_leaf_nodes=None, max_samples=None,\n",
       "                       min_impurity_decrease=0.0, min_impurity_split=None,\n",
       "                       min_samples_leaf=4, min_samples_split=5,\n",
       "                       min_weight_fraction_leaf=0.0, n_estimators=200,\n",
       "                       n_jobs=None, oob_score=False, random_state=0, verbose=0,\n",
       "                       warm_start=False)"
      ]
     },
     "execution_count": 258,
     "metadata": {},
     "output_type": "execute_result"
    }
   ],
   "source": [
    "rf_clf.fit(X_train, Y_train)  "
   ]
  },
  {
   "cell_type": "code",
   "execution_count": 261,
   "metadata": {},
   "outputs": [
    {
     "name": "stdout",
     "output_type": "stream",
     "text": [
      "Accuracy of train 0.942160892542572\n",
      "Accuracy of dev 0.7424657534246575\n",
      "AUC 0.8285960767508866\n"
     ]
    }
   ],
   "source": [
    "# Check the in sample accuracy, out of sample accuracy and AUC at test set.\n",
    "print('Accuracy of train', rf_clf.score(X_train, Y_train))\n",
    "print('Accuracy of dev', rf_clf.score(X_test, Y_test))\n",
    "\n",
    "Y_score = rf_clf.predict_proba(X_test)[:, 1] \n",
    "label = rf_clf.predict(X_test)\n",
    "AUC = roc_auc_score(Y_test, Y_score)\n",
    "print('AUC', AUC)"
   ]
  },
  {
   "cell_type": "code",
   "execution_count": 260,
   "metadata": {},
   "outputs": [
    {
     "data": {
      "text/plain": [
       "<sklearn.metrics._plot.confusion_matrix.ConfusionMatrixDisplay at 0x1a3ea67bd0>"
      ]
     },
     "execution_count": 260,
     "metadata": {},
     "output_type": "execute_result"
    },
    {
     "data": {
      "image/png": "[encoded data removed]",
      "text/plain": [
       "<Figure size 432x288 with 2 Axes>"
      ]
     },
     "metadata": {
      "needs_background": "light"
     },
     "output_type": "display_data"
    }
   ],
   "source": [
    "# Plot the confusion matrix for the test set.\n",
    "plot_confusion_matrix(rf_clf, X_test, Y_test)"
   ]
  },
  {
   "cell_type": "code",
   "execution_count": 238,
   "metadata": {},
   "outputs": [],
   "source": [
    "#refit the model with all dev set\n",
    "X_dev = dev_df.drop(columns = ['Expected', 'Source', 'Sink', 'Inter_venue', 'Overlap_public_time', 'Adamic_adar', 'Sum_degree', 'Sum_venue'], axis=1)\n",
    "#print(X_dev[5])\n",
    "Y_dev = dev_df['Expected']\n",
    "#print(Y_dev[:5])"
   ]
  },
  {
   "cell_type": "code",
   "execution_count": 240,
   "metadata": {},
   "outputs": [
    {
     "data": {
      "text/plain": [
       "RandomForestClassifier(bootstrap=True, ccp_alpha=0.0, class_weight=None,\n",
       "                       criterion='gini', max_depth=30, max_features='auto',\n",
       "                       max_leaf_nodes=None, max_samples=None,\n",
       "                       min_impurity_decrease=0.0, min_impurity_split=None,\n",
       "                       min_samples_leaf=4, min_samples_split=5,\n",
       "                       min_weight_fraction_leaf=0.0, n_estimators=200,\n",
       "                       n_jobs=None, oob_score=False, random_state=0, verbose=0,\n",
       "                       warm_start=False)"
      ]
     },
     "execution_count": 240,
     "metadata": {},
     "output_type": "execute_result"
    }
   ],
   "source": [
    "rf_clf.fit(X_dev, Y_dev)  "
   ]
  },
  {
   "cell_type": "code",
   "execution_count": 241,
   "metadata": {},
   "outputs": [
    {
     "name": "stdout",
     "output_type": "stream",
     "text": [
      "[0.57368098 0.98856061 0.21920732 0.99333333 0.49752858]\n",
      "[ 1  1 -1  1 -1]\n"
     ]
    }
   ],
   "source": [
    "# Predict the public test set\n",
    "result_class_1 = rf_clf.predict_proba(X_final_test)[:, 1] \n",
    "print(result_class_1[:5])\n",
    "label = rf_clf.predict(X_final_test)\n",
    "print(label[:5])"
   ]
  },
  {
   "cell_type": "code",
   "execution_count": 242,
   "metadata": {},
   "outputs": [],
   "source": [
    "# Generate the output dataframe\n",
    "predicted = []\n",
    "for i in result_class_1:\n",
    "    predicted.append(i)\n",
    "    \n",
    "id_value = []\n",
    "for i in range(1, len(predicted) + 1):\n",
    "    id_value.append(i)\n",
    "\n",
    "data = {'Id': id_value, 'Predicted': predicted}\n",
    "output_df = pd.DataFrame(data, columns = ['Id', 'Predicted'])"
   ]
  },
  {
   "cell_type": "code",
   "execution_count": 243,
   "metadata": {},
   "outputs": [
    {
     "data": {
      "text/html": [
       "<div>\n",
       "<style scoped>\n",
       "    .dataframe tbody tr th:only-of-type {\n",
       "        vertical-align: middle;\n",
       "    }\n",
       "\n",
       "    .dataframe tbody tr th {\n",
       "        vertical-align: top;\n",
       "    }\n",
       "\n",
       "    .dataframe thead th {\n",
       "        text-align: right;\n",
       "    }\n",
       "</style>\n",
       "<table border=\"1\" class=\"dataframe\">\n",
       "  <thead>\n",
       "    <tr style=\"text-align: right;\">\n",
       "      <th></th>\n",
       "      <th>Id</th>\n",
       "      <th>Predicted</th>\n",
       "    </tr>\n",
       "  </thead>\n",
       "  <tbody>\n",
       "    <tr>\n",
       "      <th>0</th>\n",
       "      <td>1</td>\n",
       "      <td>0.573681</td>\n",
       "    </tr>\n",
       "    <tr>\n",
       "      <th>1</th>\n",
       "      <td>2</td>\n",
       "      <td>0.988561</td>\n",
       "    </tr>\n",
       "    <tr>\n",
       "      <th>2</th>\n",
       "      <td>3</td>\n",
       "      <td>0.219207</td>\n",
       "    </tr>\n",
       "    <tr>\n",
       "      <th>3</th>\n",
       "      <td>4</td>\n",
       "      <td>0.993333</td>\n",
       "    </tr>\n",
       "    <tr>\n",
       "      <th>4</th>\n",
       "      <td>5</td>\n",
       "      <td>0.497529</td>\n",
       "    </tr>\n",
       "  </tbody>\n",
       "</table>\n",
       "</div>"
      ],
      "text/plain": [
       "   Id  Predicted\n",
       "0   1   0.573681\n",
       "1   2   0.988561\n",
       "2   3   0.219207\n",
       "3   4   0.993333\n",
       "4   5   0.497529"
      ]
     },
     "execution_count": 243,
     "metadata": {},
     "output_type": "execute_result"
    }
   ],
   "source": [
    "output_df.head()"
   ]
  },
  {
   "cell_type": "code",
   "execution_count": 244,
   "metadata": {},
   "outputs": [],
   "source": [
    "# Export the final output which was used in the Kaggle competition.\n",
    "output_df.to_csv('test_ouput_20200705_ver_1.csv', index = False)"
   ]
  }
 ],
 "metadata": {
  "kernelspec": {
   "display_name": "Python 3",
   "language": "python",
   "name": "python3"
  },
  "language_info": {
   "codemirror_mode": {
    "name": "ipython",
    "version": 3
   },
   "file_extension": ".py",
   "mimetype": "text/x-python",
   "name": "python",
   "nbconvert_exporter": "python",
   "pygments_lexer": "ipython3",
   "version": "3.7.6"
  }
 },
 "nbformat": 4,
 "nbformat_minor": 4
}
