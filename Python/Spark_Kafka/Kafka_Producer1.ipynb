{
 "cells": [
  {
   "cell_type": "markdown",
   "metadata": {},
   "source": [
    "# Producer_1"
   ]
  },
  {
   "cell_type": "markdown",
   "metadata": {},
   "source": [
    "        This producer loads the climate_streaming.csv and randomly (with replacement) feed the data to\n",
    "        the stream every 10 seconds. Additional information, such as Sender_id and Created_date, will be appended."
   ]
  },
  {
   "cell_type": "code",
   "execution_count": 14,
   "metadata": {},
   "outputs": [
    {
     "name": "stdout",
     "output_type": "stream",
     "text": [
      "Publishing records..\n",
      "Message published successfully. {\"Latitude\": -37.692, \"Relative_Humidity\": 45.8, \"Air_Temperature_Celcius\": 14, \"Max_Wind_Speed\": 9.9, \"Windspeed_knots\": 6.5, \"Sender_ID\": 1, \"Created_Date\": \"06/10/2019\", \"Hotspot\": [], \"Precipitation\": \" 0.00G\", \"Longitude\": 143.593}\n",
      "Message published successfully. {\"Latitude\": -37.238, \"Relative_Humidity\": 41.6, \"Air_Temperature_Celcius\": 8, \"Max_Wind_Speed\": 15.9, \"Windspeed_knots\": 8.3, \"Sender_ID\": 1, \"Created_Date\": \"06/10/2019\", \"Hotspot\": [], \"Precipitation\": \" 0.24G\", \"Longitude\": 141.145}\n",
      "Message published successfully. {\"Latitude\": -37.591, \"Relative_Humidity\": 46.7, \"Air_Temperature_Celcius\": 16, \"Max_Wind_Speed\": 16.9, \"Windspeed_knots\": 10.0, \"Sender_ID\": 1, \"Created_Date\": \"06/10/2019\", \"Hotspot\": [], \"Precipitation\": \" 0.00I\", \"Longitude\": 149.33}\n",
      "Message published successfully. {\"Latitude\": -37.614, \"Relative_Humidity\": 60.2, \"Air_Temperature_Celcius\": 19, \"Max_Wind_Speed\": 12.0, \"Windspeed_knots\": 6.4, \"Sender_ID\": 1, \"Created_Date\": \"06/10/2019\", \"Hotspot\": [], \"Precipitation\": \" 0.00I\", \"Longitude\": 143.451}\n",
      "Message published successfully. {\"Latitude\": -36.765, \"Relative_Humidity\": 54.9, \"Air_Temperature_Celcius\": 16, \"Max_Wind_Speed\": 9.9, \"Windspeed_knots\": 5.9, \"Sender_ID\": 1, \"Created_Date\": \"06/10/2019\", \"Hotspot\": [], \"Precipitation\": \" 0.00I\", \"Longitude\": 144.176}\n",
      "Message published successfully. {\"Latitude\": -37.605, \"Relative_Humidity\": 49.6, \"Air_Temperature_Celcius\": 23, \"Max_Wind_Speed\": 19.0, \"Windspeed_knots\": 10.0, \"Sender_ID\": 1, \"Created_Date\": \"06/10/2019\", \"Hotspot\": [], \"Precipitation\": \" 0.00I\", \"Longitude\": 149.326}\n",
      "Message published successfully. {\"Latitude\": -36.748, \"Relative_Humidity\": 48.2, \"Air_Temperature_Celcius\": 11, \"Max_Wind_Speed\": 22.9, \"Windspeed_knots\": 10.8, \"Sender_ID\": 1, \"Created_Date\": \"06/10/2019\", \"Hotspot\": [], \"Precipitation\": \" 0.59G\", \"Longitude\": 144.168}\n",
      "Message published successfully. {\"Latitude\": -36.0459, \"Relative_Humidity\": 58.7, \"Air_Temperature_Celcius\": 21, \"Max_Wind_Speed\": 13.0, \"Windspeed_knots\": 7.8, \"Sender_ID\": 1, \"Created_Date\": \"06/10/2019\", \"Hotspot\": [], \"Precipitation\": \" 0.00I\", \"Longitude\": 143.8907}\n"
     ]
    },
    {
     "ename": "KeyboardInterrupt",
     "evalue": "",
     "output_type": "error",
     "traceback": [
      "\u001b[0;31m---------------------------------------------------------------------------\u001b[0m",
      "\u001b[0;31mKeyboardInterrupt\u001b[0m                         Traceback (most recent call last)",
      "\u001b[0;32m<ipython-input-14-125fdabc1f4f>\u001b[0m in \u001b[0;36m<module>\u001b[0;34m\u001b[0m\n\u001b[1;32m     59\u001b[0m         \u001b[0msend_data\u001b[0m \u001b[0;34m=\u001b[0m \u001b[0mdumps\u001b[0m\u001b[0;34m(\u001b[0m\u001b[0mitem\u001b[0m\u001b[0;34m)\u001b[0m\u001b[0;34m\u001b[0m\u001b[0m\n\u001b[1;32m     60\u001b[0m         \u001b[0mpublish_message\u001b[0m\u001b[0;34m(\u001b[0m\u001b[0mproducer01\u001b[0m\u001b[0;34m,\u001b[0m \u001b[0mtopic\u001b[0m\u001b[0;34m,\u001b[0m \u001b[0msend_data\u001b[0m\u001b[0;34m)\u001b[0m\u001b[0;34m\u001b[0m\u001b[0m\n\u001b[0;32m---> 61\u001b[0;31m         \u001b[0msleep\u001b[0m\u001b[0;34m(\u001b[0m\u001b[0;36m10\u001b[0m\u001b[0;34m)\u001b[0m \u001b[0;31m#send every 10 seconds\u001b[0m\u001b[0;34m\u001b[0m\u001b[0m\n\u001b[0m",
      "\u001b[0;31mKeyboardInterrupt\u001b[0m: "
     ]
    }
   ],
   "source": [
    "import csv\n",
    "from time import sleep\n",
    "from json import dumps\n",
    "from kafka import KafkaProducer\n",
    "import random\n",
    "import datetime as dt\n",
    "\n",
    "data=[]\n",
    "with open('climate_streaming.csv') as f:\n",
    "    reader = csv.reader(f)\n",
    "    next(reader, None) # avoid the header\n",
    "    \n",
    "    for row in reader:\n",
    "        d={'Latitude':float(row[0]),\n",
    "           'Longitude':float(row[1]),\n",
    "           'Air_Temperature_Celcius':int(row[2]),\n",
    "           'Relative_Humidity':float(row[3]),\n",
    "           'Windspeed_knots':float(row[4]),\n",
    "           'Max_Wind_Speed':float(row[5]), \n",
    "           'Precipitation':str(row[6]),\n",
    "           'Sender_ID':1,\n",
    "           'Hotspot':[] \n",
    "           }\n",
    "        data.append(d)\n",
    "\n",
    "\n",
    "            \n",
    "\n",
    "def publish_message(producer_instance, topic_name, data):\n",
    "    try:\n",
    "        value_bytes = bytes(data, encoding='utf-8')\n",
    "        producer_instance.send(topic_name, value=value_bytes)\n",
    "        print('Message published successfully. ' + data)\n",
    "    except Exception as ex:\n",
    "        print('Exception in publishing message.')\n",
    "        print(str(ex))\n",
    "        \n",
    "def connect_kafka_producer():\n",
    "    _producer = None\n",
    "    try:\n",
    "        _producer = KafkaProducer(bootstrap_servers=['127.0.0.1:9092'],\n",
    "                                  api_version=(0, 10))\n",
    "    except Exception as ex:\n",
    "        print('Exception while connecting Kafka.')\n",
    "        print(str(ex))\n",
    "    finally:\n",
    "        return _producer\n",
    "    \n",
    "if __name__ == '__main__':\n",
    "   \n",
    "    topic = 'vic_fire_producer'\n",
    "    print('Publishing records..')\n",
    "    producer01 = connect_kafka_producer()\n",
    "\n",
    "    for item in random.sample(data,360): #streaming for 6 m\n",
    "        item['Created_Date']=dt.datetime.now().strftime(\"%d/%m/%Y\")\n",
    "        send_data = dumps(item)    \n",
    "        publish_message(producer01, topic, send_data) \n",
    "        sleep(10) #send every 10 seconds"
   ]
  },
  {
   "cell_type": "code",
   "execution_count": null,
   "metadata": {},
   "outputs": [],
   "source": []
  }
 ],
 "metadata": {
  "kernelspec": {
   "display_name": "Python 3",
   "language": "python",
   "name": "python3"
  },
  "language_info": {
   "codemirror_mode": {
    "name": "ipython",
    "version": 3
   },
   "file_extension": ".py",
   "mimetype": "text/x-python",
   "name": "python",
   "nbconvert_exporter": "python",
   "pygments_lexer": "ipython3",
   "version": "3.5.2"
  }
 },
 "nbformat": 4,
 "nbformat_minor": 2
}
